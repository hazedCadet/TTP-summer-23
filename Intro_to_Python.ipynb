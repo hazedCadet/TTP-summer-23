{
  "nbformat": 4,
  "nbformat_minor": 0,
  "metadata": {
    "colab": {
      "provenance": [],
      "authorship_tag": "ABX9TyNDK9IQC7prVnluWeylTj0y",
      "include_colab_link": true
    },
    "kernelspec": {
      "name": "python3",
      "display_name": "Python 3"
    },
    "language_info": {
      "name": "python"
    }
  },
  "cells": [
    {
      "cell_type": "markdown",
      "metadata": {
        "id": "view-in-github",
        "colab_type": "text"
      },
      "source": [
        "<a href=\"https://colab.research.google.com/github/hazedCadet/TTP-summer-23/blob/main/Intro_to_Python.ipynb\" target=\"_parent\"><img src=\"https://colab.research.google.com/assets/colab-badge.svg\" alt=\"Open In Colab\"/></a>"
      ]
    },
    {
      "cell_type": "markdown",
      "source": [
        "# Python Basics"
      ],
      "metadata": {
        "id": "8tV1L8UeHbBE"
      }
    },
    {
      "cell_type": "markdown",
      "source": [
        "## Strings & the `print()` function"
      ],
      "metadata": {
        "id": "e_7nI9wcIkVq"
      }
    },
    {
      "cell_type": "code",
      "source": [
        "# print function, parameter: string\n",
        "# displays object\n",
        "print('Hello World')"
      ],
      "metadata": {
        "colab": {
          "base_uri": "https://localhost:8080/"
        },
        "id": "1LNsmKytIkJy",
        "outputId": "81d2d2a5-2e44-424f-b5de-d3ba38e2f6da"
      },
      "execution_count": null,
      "outputs": [
        {
          "output_type": "stream",
          "name": "stdout",
          "text": [
            "Hello World\n"
          ]
        }
      ]
    },
    {
      "cell_type": "code",
      "source": [
        "# backslash escapes processing, allows next backslash to show\n",
        "print('There are two types of slashes: \\\\ and /')"
      ],
      "metadata": {
        "colab": {
          "base_uri": "https://localhost:8080/"
        },
        "id": "99zyzXM7Ij-z",
        "outputId": "b74cb6c9-87ec-465b-c78f-e69f5cbd5958"
      },
      "execution_count": null,
      "outputs": [
        {
          "output_type": "stream",
          "name": "stdout",
          "text": [
            "There are two types of slashes: \\ and /\n"
          ]
        }
      ]
    },
    {
      "cell_type": "code",
      "source": [
        "# 3 quotes begin multiline behavior\n",
        "print(\"\"\"\n",
        "    This is a tabbed line\n",
        "  This is a regular line\n",
        "  \"\"\")"
      ],
      "metadata": {
        "colab": {
          "base_uri": "https://localhost:8080/"
        },
        "id": "FSkrAmd5Ij8B",
        "outputId": "c6d3dd62-7e43-4293-9d96-e936cf4efe1e"
      },
      "execution_count": null,
      "outputs": [
        {
          "output_type": "stream",
          "name": "stdout",
          "text": [
            "\n",
            "    This is a tabbed line\n",
            "  This is a regular line\n",
            "  \n"
          ]
        }
      ]
    },
    {
      "cell_type": "code",
      "source": [
        "# \\n : new line\n",
        "# \\t : tab\n",
        "print('\\n\\tThis is a tabbed line\\nThis is a regular line')"
      ],
      "metadata": {
        "colab": {
          "base_uri": "https://localhost:8080/"
        },
        "id": "jJ3qEOP8Ij5O",
        "outputId": "8a2e6e2f-188f-4753-99be-a8f0bb634512"
      },
      "execution_count": null,
      "outputs": [
        {
          "output_type": "stream",
          "name": "stdout",
          "text": [
            "\n",
            "\tThis is a tabbed line\n",
            "This is a regular line\n"
          ]
        }
      ]
    },
    {
      "cell_type": "code",
      "source": [
        "# + concatenates two objects\n",
        "print('First Name' + 'Last Name')"
      ],
      "metadata": {
        "colab": {
          "base_uri": "https://localhost:8080/"
        },
        "id": "-2lZPeyoIj2q",
        "outputId": "3445bff9-7d4c-4204-8a2f-7a64fed88b74"
      },
      "execution_count": null,
      "outputs": [
        {
          "output_type": "stream",
          "name": "stdout",
          "text": [
            "First NameLast Name\n"
          ]
        }
      ]
    },
    {
      "cell_type": "code",
      "source": [
        "# + concatenation does not include spacing\n",
        "print('First Name ' + 'Last Name')\n",
        "print('First Name' + ' Last Name')"
      ],
      "metadata": {
        "colab": {
          "base_uri": "https://localhost:8080/"
        },
        "id": "wI8bl_l3Ij0K",
        "outputId": "700ec236-5666-4175-9380-547b9503235c"
      },
      "execution_count": null,
      "outputs": [
        {
          "output_type": "stream",
          "name": "stdout",
          "text": [
            "First Name Last Name\n",
            "First Name Last Name\n"
          ]
        }
      ]
    },
    {
      "cell_type": "markdown",
      "source": [
        "## Variables"
      ],
      "metadata": {
        "id": "pVEfUCbeIjwb"
      }
    },
    {
      "cell_type": "code",
      "source": [
        "# variables are developer defined\n",
        "# variables are buckets for something\n",
        "# always on the left\n",
        "dogs = 3\n",
        "cats = 'Many fluffy cats'\n",
        "# assignment done with =\n",
        "# right defines what variable is"
      ],
      "metadata": {
        "id": "kJ12BhjDIjtB",
        "colab": {
          "base_uri": "https://localhost:8080/",
          "height": 256
        },
        "outputId": "31bf4eeb-fcbc-40a9-a84b-06eae2159b68"
      },
      "execution_count": 3,
      "outputs": [
        {
          "output_type": "error",
          "ename": "NameError",
          "evalue": "ignored",
          "traceback": [
            "\u001b[0;31m---------------------------------------------------------------------------\u001b[0m",
            "\u001b[0;31mNameError\u001b[0m                                 Traceback (most recent call last)",
            "\u001b[0;32m<ipython-input-3-c4a8b1b57cfe>\u001b[0m in \u001b[0;36m<cell line: 6>\u001b[0;34m()\u001b[0m\n\u001b[1;32m      4\u001b[0m \u001b[0mdogs\u001b[0m \u001b[0;34m=\u001b[0m \u001b[0;36m3\u001b[0m\u001b[0;34m\u001b[0m\u001b[0;34m\u001b[0m\u001b[0m\n\u001b[1;32m      5\u001b[0m \u001b[0mcats\u001b[0m \u001b[0;34m=\u001b[0m \u001b[0;34m'Many fluffy cats'\u001b[0m\u001b[0;34m\u001b[0m\u001b[0;34m\u001b[0m\u001b[0m\n\u001b[0;32m----> 6\u001b[0;31m \u001b[0mcows\u001b[0m \u001b[0;34m=\u001b[0m \u001b[0mmooooo\u001b[0m\u001b[0;34m\u001b[0m\u001b[0;34m\u001b[0m\u001b[0m\n\u001b[0m\u001b[1;32m      7\u001b[0m \u001b[0;31m# assignment done with =\u001b[0m\u001b[0;34m\u001b[0m\u001b[0;34m\u001b[0m\u001b[0m\n\u001b[1;32m      8\u001b[0m \u001b[0;31m# right defines what variable is\u001b[0m\u001b[0;34m\u001b[0m\u001b[0;34m\u001b[0m\u001b[0m\n",
            "\u001b[0;31mNameError\u001b[0m: name 'mooooo' is not defined"
          ]
        }
      ]
    },
    {
      "cell_type": "code",
      "source": [
        "# if we 'code' dogs python displays definition\n",
        "dogs"
      ],
      "metadata": {
        "colab": {
          "base_uri": "https://localhost:8080/"
        },
        "id": "1jWYywWOIjqe",
        "outputId": "617f3fbc-95e2-425a-a481-fb83816c884c"
      },
      "execution_count": null,
      "outputs": [
        {
          "output_type": "execute_result",
          "data": {
            "text/plain": [
              "3"
            ]
          },
          "metadata": {},
          "execution_count": 8
        }
      ]
    },
    {
      "cell_type": "code",
      "source": [
        "cats"
      ],
      "metadata": {
        "colab": {
          "base_uri": "https://localhost:8080/",
          "height": 56
        },
        "id": "u0Z0cBSQIjns",
        "outputId": "745e9dc3-90e7-49a5-df84-7df73c7ed528"
      },
      "execution_count": null,
      "outputs": [
        {
          "output_type": "execute_result",
          "data": {
            "text/plain": [
              "'Many fluffy cats'"
            ],
            "application/vnd.google.colaboratory.intrinsic+json": {
              "type": "string"
            }
          },
          "metadata": {},
          "execution_count": 9
        }
      ]
    },
    {
      "cell_type": "code",
      "source": [
        "# type function , parameter : object\n",
        "# displays object type\n",
        "type(dogs)"
      ],
      "metadata": {
        "colab": {
          "base_uri": "https://localhost:8080/"
        },
        "id": "cILUzmYIIjk1",
        "outputId": "b9feba14-c50e-4118-c877-01b745d72ffc"
      },
      "execution_count": null,
      "outputs": [
        {
          "output_type": "execute_result",
          "data": {
            "text/plain": [
              "int"
            ]
          },
          "metadata": {},
          "execution_count": 10
        }
      ]
    },
    {
      "cell_type": "code",
      "source": [
        "type(cats)"
      ],
      "metadata": {
        "colab": {
          "base_uri": "https://localhost:8080/"
        },
        "id": "g-nKAF2pIjit",
        "outputId": "1947ed10-f049-4c60-9460-8b6e46ee060d"
      },
      "execution_count": null,
      "outputs": [
        {
          "output_type": "execute_result",
          "data": {
            "text/plain": [
              "str"
            ]
          },
          "metadata": {},
          "execution_count": 11
        }
      ]
    },
    {
      "cell_type": "code",
      "source": [
        "print(dogs)"
      ],
      "metadata": {
        "colab": {
          "base_uri": "https://localhost:8080/"
        },
        "id": "yIAEgEiQIjcF",
        "outputId": "ff545e39-14ee-46e0-adbc-5b535c100d6a"
      },
      "execution_count": null,
      "outputs": [
        {
          "output_type": "stream",
          "name": "stdout",
          "text": [
            "3\n"
          ]
        }
      ]
    },
    {
      "cell_type": "code",
      "source": [
        "hi = 'Hello'\n",
        "name = 'John'\n",
        "print(hi + name)\n",
        "# concatenate, no space looks ugly"
      ],
      "metadata": {
        "colab": {
          "base_uri": "https://localhost:8080/"
        },
        "id": "U5-AEFLyIjZU",
        "outputId": "8760613a-45a3-448b-9c70-f09dbadf1e4a"
      },
      "execution_count": null,
      "outputs": [
        {
          "output_type": "stream",
          "name": "stdout",
          "text": [
            "HelloJohn\n"
          ]
        }
      ]
    },
    {
      "cell_type": "code",
      "source": [
        "# concatenate space as well, legible now\n",
        "print(hi + ' ' + name)"
      ],
      "metadata": {
        "colab": {
          "base_uri": "https://localhost:8080/"
        },
        "id": "ClE-LHtVIjWe",
        "outputId": "f07d4709-8fae-4ad8-b9ba-230f95e9f3d4"
      },
      "execution_count": null,
      "outputs": [
        {
          "output_type": "stream",
          "name": "stdout",
          "text": [
            "Hello John\n"
          ]
        }
      ]
    },
    {
      "cell_type": "code",
      "source": [
        "more_dogs = 5"
      ],
      "metadata": {
        "id": "Pv1_hxM4IjT9"
      },
      "execution_count": null,
      "outputs": []
    },
    {
      "cell_type": "code",
      "source": [
        "# variables can interact with each other\n",
        "print(dogs + more_dogs)"
      ],
      "metadata": {
        "colab": {
          "base_uri": "https://localhost:8080/"
        },
        "id": "yE853d45IjRM",
        "outputId": "b1f70121-2888-4600-eaff-68d4f47f967f"
      },
      "execution_count": null,
      "outputs": [
        {
          "output_type": "stream",
          "name": "stdout",
          "text": [
            "8\n"
          ]
        }
      ]
    },
    {
      "cell_type": "code",
      "source": [
        "price = 19.99\n",
        "amount = 3"
      ],
      "metadata": {
        "id": "KfuErdXmIjOX"
      },
      "execution_count": null,
      "outputs": []
    },
    {
      "cell_type": "code",
      "source": [
        "print(price * amount)"
      ],
      "metadata": {
        "colab": {
          "base_uri": "https://localhost:8080/"
        },
        "id": "QxohtuyCIjL1",
        "outputId": "966fe888-53fd-4004-986d-7b30caff354d"
      },
      "execution_count": null,
      "outputs": [
        {
          "output_type": "stream",
          "name": "stdout",
          "text": [
            "59.97\n"
          ]
        }
      ]
    },
    {
      "cell_type": "code",
      "source": [
        "# Variable re-assignment"
      ],
      "metadata": {
        "id": "1L8hOmdSIjJX"
      },
      "execution_count": null,
      "outputs": []
    },
    {
      "cell_type": "code",
      "source": [
        "dogs = 'New value'\n",
        "print(dogs)"
      ],
      "metadata": {
        "colab": {
          "base_uri": "https://localhost:8080/"
        },
        "id": "Jjbj9bp3IjHK",
        "outputId": "df7b2db8-9245-48ce-e24b-26c0c4c0225e"
      },
      "execution_count": null,
      "outputs": [
        {
          "output_type": "stream",
          "name": "stdout",
          "text": [
            "New value\n"
          ]
        }
      ]
    },
    {
      "cell_type": "code",
      "source": [
        "cats, dogs, rabbits = 2, 5, 'cute'\n",
        "# in order multi variable assignment\n",
        "# a, b, c = 1, 2, 3"
      ],
      "metadata": {
        "id": "3DZ0rFi6Ii81"
      },
      "execution_count": null,
      "outputs": []
    },
    {
      "cell_type": "code",
      "source": [
        "print(dogs)"
      ],
      "metadata": {
        "colab": {
          "base_uri": "https://localhost:8080/"
        },
        "id": "YqKiT-fcIi6D",
        "outputId": "a15d826b-7076-4e91-e5d0-4422dc4cfd6b"
      },
      "execution_count": null,
      "outputs": [
        {
          "output_type": "stream",
          "name": "stdout",
          "text": [
            "5\n"
          ]
        }
      ]
    },
    {
      "cell_type": "markdown",
      "source": [
        "## More Strings"
      ],
      "metadata": {
        "id": "uJBY_eTqIi3f"
      }
    },
    {
      "cell_type": "markdown",
      "source": [
        "### Indexing"
      ],
      "metadata": {
        "id": "88ADzHsDIi1T"
      }
    },
    {
      "cell_type": "code",
      "source": [
        "greeting = 'Hello world!'"
      ],
      "metadata": {
        "id": "jsSkaiRlIizJ"
      },
      "execution_count": null,
      "outputs": []
    },
    {
      "cell_type": "code",
      "source": [
        "# 'coding' greeting displays object\n",
        "greeting"
      ],
      "metadata": {
        "colab": {
          "base_uri": "https://localhost:8080/",
          "height": 56
        },
        "id": "RRQ8iU5hIiua",
        "outputId": "86d11960-afd0-491b-9cbc-7a536899d891"
      },
      "execution_count": null,
      "outputs": [
        {
          "output_type": "execute_result",
          "data": {
            "text/plain": [
              "'Hello world!'"
            ],
            "application/vnd.google.colaboratory.intrinsic+json": {
              "type": "string"
            }
          },
          "metadata": {},
          "execution_count": 24
        }
      ]
    },
    {
      "cell_type": "code",
      "source": [
        "# display index 4 of greeting\n",
        "print(greeting[4])\n",
        "# strings are arrays of chars"
      ],
      "metadata": {
        "colab": {
          "base_uri": "https://localhost:8080/"
        },
        "id": "CjO3A84BIisO",
        "outputId": "bdb50676-5a3a-4126-8f26-7db84a06c3b7"
      },
      "execution_count": null,
      "outputs": [
        {
          "output_type": "stream",
          "name": "stdout",
          "text": [
            "o\n"
          ]
        }
      ]
    },
    {
      "cell_type": "code",
      "source": [
        "sentence = 'The quick brown fox jumps over the lazy dog'"
      ],
      "metadata": {
        "id": "XHeTkB7JIiqE"
      },
      "execution_count": 6,
      "outputs": []
    },
    {
      "cell_type": "code",
      "source": [
        "print(sentence[3], sentence[5], sentence[19])\n",
        "# ERROR - tried to print 3, 5, and 19 indices"
      ],
      "metadata": {
        "colab": {
          "base_uri": "https://localhost:8080/"
        },
        "id": "BQWRkJdBIil-",
        "outputId": "5b70c292-10d0-4418-8bdd-955ac8ae3249"
      },
      "execution_count": null,
      "outputs": [
        {
          "output_type": "stream",
          "name": "stdout",
          "text": [
            "  u  \n"
          ]
        }
      ]
    },
    {
      "cell_type": "code",
      "source": [
        "# concatenating spaces does not help\n",
        "print(sentence[3] + ' ' + sentence[5] + ' ' + sentence[19])"
      ],
      "metadata": {
        "colab": {
          "base_uri": "https://localhost:8080/"
        },
        "id": "tdyEkOqpIijM",
        "outputId": "a8ce2348-f152-444e-cc17-5d3ae57b0590"
      },
      "execution_count": null,
      "outputs": [
        {
          "output_type": "stream",
          "name": "stdout",
          "text": [
            "  u  \n"
          ]
        }
      ]
    },
    {
      "cell_type": "code",
      "source": [
        "print(sentence)\n",
        "print('index 3: ' + sentence[3])\n",
        "print('index 5: ' + sentence[5])\n",
        "print('index 19: ' + sentence[19])\n",
        "# 3 + 5 + 19 = 27\n",
        "print('index 27: ' + sentence[27])"
      ],
      "metadata": {
        "colab": {
          "base_uri": "https://localhost:8080/"
        },
        "id": "jIv4nyupBozX",
        "outputId": "3274ef3a-e8c4-4753-a810-9dd27a71562f"
      },
      "execution_count": 7,
      "outputs": [
        {
          "output_type": "stream",
          "name": "stdout",
          "text": [
            "The quick brown fox jumps over the lazy dog\n",
            "index 3:  \n",
            "index 5: u\n",
            "index 19:  \n",
            "index 27: v\n"
          ]
        }
      ]
    },
    {
      "cell_type": "code",
      "source": [
        "print('index 3, 5: ' + sentence[3], sentence[5])\n",
        "print('index 3, 5: ' + sentence[3] + sentence[5])\n",
        "# none work\n",
        "\n",
        "# ANSWER: LIST COMPREHENSIONS\n",
        "print([sentence[i] for i in [3,5,19]])\n",
        "# same as previous"
      ],
      "metadata": {
        "colab": {
          "base_uri": "https://localhost:8080/"
        },
        "id": "lYnXpRGhCkce",
        "outputId": "1d3b36a4-28ac-4e4c-d1e8-06ae2e1ca62a"
      },
      "execution_count": 20,
      "outputs": [
        {
          "output_type": "stream",
          "name": "stdout",
          "text": [
            "index 3, 5:   u\n",
            "index 3, 5:  u\n",
            "[' ', 'u', ' ']\n"
          ]
        }
      ]
    },
    {
      "cell_type": "code",
      "source": [
        "# len function , parameter : object\n",
        "# returns number of units in object\n",
        "len(sentence)"
      ],
      "metadata": {
        "colab": {
          "base_uri": "https://localhost:8080/"
        },
        "id": "M5y4qfbLPQm0",
        "outputId": "a3d50ec9-01cf-4c28-dee6-9bfd3832a3f7"
      },
      "execution_count": 21,
      "outputs": [
        {
          "output_type": "stream",
          "name": "stdout",
          "text": [
            "Help on built-in function len in module builtins:\n",
            "\n",
            "len(obj, /)\n",
            "    Return the number of items in a container.\n",
            "\n"
          ]
        },
        {
          "output_type": "execute_result",
          "data": {
            "text/plain": [
              "43"
            ]
          },
          "metadata": {},
          "execution_count": 21
        }
      ]
    },
    {
      "cell_type": "code",
      "source": [
        "sentence[42]"
      ],
      "metadata": {
        "colab": {
          "base_uri": "https://localhost:8080/",
          "height": 56
        },
        "id": "kAxnWlviPfG-",
        "outputId": "295b1dee-1a8e-4d9a-f5be-22467ff7441a"
      },
      "execution_count": null,
      "outputs": [
        {
          "output_type": "execute_result",
          "data": {
            "text/plain": [
              "'g'"
            ],
            "application/vnd.google.colaboratory.intrinsic+json": {
              "type": "string"
            }
          },
          "metadata": {},
          "execution_count": 30
        }
      ]
    },
    {
      "cell_type": "code",
      "source": [
        "# [-1] - returns last unit of object\n",
        "sentence[-1]"
      ],
      "metadata": {
        "colab": {
          "base_uri": "https://localhost:8080/",
          "height": 56
        },
        "id": "vetUXFBfPfEd",
        "outputId": "fe229f7a-eae2-4c8d-b35a-abda455f4d6e"
      },
      "execution_count": null,
      "outputs": [
        {
          "output_type": "execute_result",
          "data": {
            "text/plain": [
              "'g'"
            ],
            "application/vnd.google.colaboratory.intrinsic+json": {
              "type": "string"
            }
          },
          "metadata": {},
          "execution_count": 31
        }
      ]
    },
    {
      "cell_type": "markdown",
      "source": [
        "### String Formatting"
      ],
      "metadata": {
        "id": "IC7elE_2PfCX"
      }
    },
    {
      "cell_type": "code",
      "source": [
        "price = 59.99"
      ],
      "metadata": {
        "id": "AU_Be9elPfAj"
      },
      "execution_count": null,
      "outputs": []
    },
    {
      "cell_type": "code",
      "source": [
        "message = 'The product costs ' + 59.99 + ' dollars'"
      ],
      "metadata": {
        "colab": {
          "base_uri": "https://localhost:8080/",
          "height": 187
        },
        "id": "qWy47mMNPe7s",
        "outputId": "419d1e1b-a9f7-4871-b876-586ee0406bae"
      },
      "execution_count": null,
      "outputs": [
        {
          "output_type": "error",
          "ename": "TypeError",
          "evalue": "ignored",
          "traceback": [
            "\u001b[0;31m---------------------------------------------------------------------------\u001b[0m",
            "\u001b[0;31mTypeError\u001b[0m                                 Traceback (most recent call last)",
            "\u001b[0;32m<ipython-input-33-feed96b2a01c>\u001b[0m in \u001b[0;36m<cell line: 1>\u001b[0;34m()\u001b[0m\n\u001b[0;32m----> 1\u001b[0;31m \u001b[0mmessage\u001b[0m \u001b[0;34m=\u001b[0m \u001b[0;34m'The product costs '\u001b[0m \u001b[0;34m+\u001b[0m \u001b[0;36m59.99\u001b[0m \u001b[0;34m+\u001b[0m \u001b[0;34m' dollars'\u001b[0m\u001b[0;34m\u001b[0m\u001b[0;34m\u001b[0m\u001b[0m\n\u001b[0m",
            "\u001b[0;31mTypeError\u001b[0m: can only concatenate str (not \"float\") to str"
          ]
        }
      ]
    },
    {
      "cell_type": "code",
      "source": [
        "# casting : type(object)\n",
        "message = 'The product costs ' + str(price) + ' dollars'"
      ],
      "metadata": {
        "id": "p8pLbxfMPe5N"
      },
      "execution_count": null,
      "outputs": []
    },
    {
      "cell_type": "code",
      "source": [
        "message"
      ],
      "metadata": {
        "colab": {
          "base_uri": "https://localhost:8080/",
          "height": 56
        },
        "id": "Tf3oKrVRPe3A",
        "outputId": "b916d97e-0658-4d7e-bd38-13a13fa13df2"
      },
      "execution_count": null,
      "outputs": [
        {
          "output_type": "execute_result",
          "data": {
            "text/plain": [
              "'The product costs 59.99 dollars'"
            ],
            "application/vnd.google.colaboratory.intrinsic+json": {
              "type": "string"
            }
          },
          "metadata": {},
          "execution_count": 37
        }
      ]
    },
    {
      "cell_type": "markdown",
      "source": [
        "#### The .format() method"
      ],
      "metadata": {
        "id": "6afiGEgIRMQ2"
      }
    },
    {
      "cell_type": "code",
      "source": [
        "# string with {} as variable placeholder.format(variable)\n",
        "msg = 'The product costs {} dollars'.format(price)"
      ],
      "metadata": {
        "id": "_8JotuW2Pe0L"
      },
      "execution_count": null,
      "outputs": []
    },
    {
      "cell_type": "code",
      "source": [
        "msg"
      ],
      "metadata": {
        "colab": {
          "base_uri": "https://localhost:8080/",
          "height": 56
        },
        "id": "8G-LspruPexv",
        "outputId": "ed920861-ddf4-4cfc-ca7c-0e91f7432834"
      },
      "execution_count": null,
      "outputs": [
        {
          "output_type": "execute_result",
          "data": {
            "text/plain": [
              "'The product costs 59.99 dollars'"
            ],
            "application/vnd.google.colaboratory.intrinsic+json": {
              "type": "string"
            }
          },
          "metadata": {},
          "execution_count": 39
        }
      ]
    },
    {
      "cell_type": "code",
      "source": [
        "amount = 3\n",
        "total = amount * price"
      ],
      "metadata": {
        "id": "tFnXqzJUQyfy"
      },
      "execution_count": null,
      "outputs": []
    },
    {
      "cell_type": "code",
      "source": [
        "# define string with {}\n",
        "msg2 = 'For {} products at the price of {}, the total will be : {}'\n",
        "print(msg2.format(amount, price, total))\n",
        "# print string.format(vars) as previously\n",
        "# vars will be displayed in the order they are passed"
      ],
      "metadata": {
        "id": "odYEu1ytRVYi"
      },
      "execution_count": null,
      "outputs": []
    },
    {
      "cell_type": "code",
      "source": [
        "# define string with {} but with hardcoded values\n",
        "msg3 = 'For {2} products at the price of {0}, the total will be : {1}'\n",
        "# no arguments, hardcoded values show\n",
        "msg3\n",
        "# arguments, passed by index\n",
        "# in this case: amount=0, price=1, total=2\n",
        "print(msg3.format(amount, price, total))\n",
        "# will display as: total, amount, price"
      ],
      "metadata": {
        "id": "4quYY7LTRs0L"
      },
      "execution_count": null,
      "outputs": []
    },
    {
      "cell_type": "code",
      "source": [
        "print(msg3.format(price, total, amount))"
      ],
      "metadata": {
        "colab": {
          "base_uri": "https://localhost:8080/"
        },
        "id": "vB-3Dnp7SpH_",
        "outputId": "66d8864c-a411-4c2b-a392-afdd299c9d7a"
      },
      "execution_count": null,
      "outputs": [
        {
          "output_type": "stream",
          "name": "stdout",
          "text": [
            "For 3 products at the price of 59.99, the total will be : 179.97\n"
          ]
        }
      ]
    },
    {
      "cell_type": "markdown",
      "source": [
        "#### The f-string Method"
      ],
      "metadata": {
        "id": "I3i6eoSDSzHk"
      }
    },
    {
      "cell_type": "code",
      "source": [
        "price = 19.99\n",
        "items = 3"
      ],
      "metadata": {
        "id": "mzo2jhBHTBpp"
      },
      "execution_count": null,
      "outputs": []
    },
    {
      "cell_type": "code",
      "source": [
        "# preced quote with f\n",
        "# use variable in string\n",
        "msg = f'This indiviual product is {price}'"
      ],
      "metadata": {
        "id": "t2-ZLkg1TBmy"
      },
      "execution_count": null,
      "outputs": []
    },
    {
      "cell_type": "code",
      "source": [
        "msg"
      ],
      "metadata": {
        "colab": {
          "base_uri": "https://localhost:8080/",
          "height": 56
        },
        "id": "4pAUhHraTBkB",
        "outputId": "31da34e7-eb59-421e-9921-7218bccd1941"
      },
      "execution_count": null,
      "outputs": [
        {
          "output_type": "execute_result",
          "data": {
            "text/plain": [
              "'This indiviual product is 19.99'"
            ],
            "application/vnd.google.colaboratory.intrinsic+json": {
              "type": "string"
            }
          },
          "metadata": {},
          "execution_count": 49
        }
      ]
    },
    {
      "cell_type": "code",
      "source": [
        "msg2 = f'The total for your purchase is {price*items}'"
      ],
      "metadata": {
        "id": "AVOK5VBZTBhf"
      },
      "execution_count": null,
      "outputs": []
    },
    {
      "cell_type": "code",
      "source": [
        "msg2"
      ],
      "metadata": {
        "colab": {
          "base_uri": "https://localhost:8080/",
          "height": 56
        },
        "id": "sMXv0-uITBe_",
        "outputId": "ba4f19c0-216c-4212-c297-3d67141b8133"
      },
      "execution_count": null,
      "outputs": [
        {
          "output_type": "execute_result",
          "data": {
            "text/plain": [
              "'For {} products at the price of {}, the total will be : {}'"
            ],
            "application/vnd.google.colaboratory.intrinsic+json": {
              "type": "string"
            }
          },
          "metadata": {},
          "execution_count": 50
        }
      ]
    },
    {
      "cell_type": "markdown",
      "source": [
        "#### String Functions"
      ],
      "metadata": {
        "id": "F0pSR4LnTBcf"
      }
    },
    {
      "cell_type": "code",
      "source": [
        "# str(), print(), len()"
      ],
      "metadata": {
        "id": "rWOkBdasTBZ-"
      },
      "execution_count": null,
      "outputs": []
    },
    {
      "cell_type": "code",
      "source": [
        "dir(msg)"
      ],
      "metadata": {
        "id": "JmP7N-idTBXK",
        "colab": {
          "base_uri": "https://localhost:8080/"
        },
        "outputId": "74cac2a4-8ffd-4f4b-f8c9-7bdd48f43b1f"
      },
      "execution_count": null,
      "outputs": [
        {
          "output_type": "execute_result",
          "data": {
            "text/plain": [
              "['__add__',\n",
              " '__class__',\n",
              " '__contains__',\n",
              " '__delattr__',\n",
              " '__dir__',\n",
              " '__doc__',\n",
              " '__eq__',\n",
              " '__format__',\n",
              " '__ge__',\n",
              " '__getattribute__',\n",
              " '__getitem__',\n",
              " '__getnewargs__',\n",
              " '__gt__',\n",
              " '__hash__',\n",
              " '__init__',\n",
              " '__init_subclass__',\n",
              " '__iter__',\n",
              " '__le__',\n",
              " '__len__',\n",
              " '__lt__',\n",
              " '__mod__',\n",
              " '__mul__',\n",
              " '__ne__',\n",
              " '__new__',\n",
              " '__reduce__',\n",
              " '__reduce_ex__',\n",
              " '__repr__',\n",
              " '__rmod__',\n",
              " '__rmul__',\n",
              " '__setattr__',\n",
              " '__sizeof__',\n",
              " '__str__',\n",
              " '__subclasshook__',\n",
              " 'capitalize',\n",
              " 'casefold',\n",
              " 'center',\n",
              " 'count',\n",
              " 'encode',\n",
              " 'endswith',\n",
              " 'expandtabs',\n",
              " 'find',\n",
              " 'format',\n",
              " 'format_map',\n",
              " 'index',\n",
              " 'isalnum',\n",
              " 'isalpha',\n",
              " 'isascii',\n",
              " 'isdecimal',\n",
              " 'isdigit',\n",
              " 'isidentifier',\n",
              " 'islower',\n",
              " 'isnumeric',\n",
              " 'isprintable',\n",
              " 'isspace',\n",
              " 'istitle',\n",
              " 'isupper',\n",
              " 'join',\n",
              " 'ljust',\n",
              " 'lower',\n",
              " 'lstrip',\n",
              " 'maketrans',\n",
              " 'partition',\n",
              " 'removeprefix',\n",
              " 'removesuffix',\n",
              " 'replace',\n",
              " 'rfind',\n",
              " 'rindex',\n",
              " 'rjust',\n",
              " 'rpartition',\n",
              " 'rsplit',\n",
              " 'rstrip',\n",
              " 'split',\n",
              " 'splitlines',\n",
              " 'startswith',\n",
              " 'strip',\n",
              " 'swapcase',\n",
              " 'title',\n",
              " 'translate',\n",
              " 'upper',\n",
              " 'zfill']"
            ]
          },
          "metadata": {},
          "execution_count": 53
        }
      ]
    },
    {
      "cell_type": "code",
      "source": [
        "msg = 'Hello my name is Bob'"
      ],
      "metadata": {
        "id": "1rxF7gj2TBSy"
      },
      "execution_count": null,
      "outputs": []
    },
    {
      "cell_type": "code",
      "source": [
        "# split function : parameter : char\n",
        "# returns list with specified parameter as break points non inclusive\n",
        "words = msg.split('')"
      ],
      "metadata": {
        "id": "G8IZr-weTBQV",
        "colab": {
          "base_uri": "https://localhost:8080/",
          "height": 187
        },
        "outputId": "3fbecb87-eef5-448c-c03e-54e80b07cce0"
      },
      "execution_count": null,
      "outputs": [
        {
          "output_type": "error",
          "ename": "ValueError",
          "evalue": "ignored",
          "traceback": [
            "\u001b[0;31m---------------------------------------------------------------------------\u001b[0m",
            "\u001b[0;31mValueError\u001b[0m                                Traceback (most recent call last)",
            "\u001b[0;32m<ipython-input-55-a517c942befe>\u001b[0m in \u001b[0;36m<cell line: 1>\u001b[0;34m()\u001b[0m\n\u001b[0;32m----> 1\u001b[0;31m \u001b[0mwords\u001b[0m \u001b[0;34m=\u001b[0m \u001b[0mmsg\u001b[0m\u001b[0;34m.\u001b[0m\u001b[0msplit\u001b[0m\u001b[0;34m(\u001b[0m\u001b[0;34m''\u001b[0m\u001b[0;34m)\u001b[0m\u001b[0;34m\u001b[0m\u001b[0;34m\u001b[0m\u001b[0m\n\u001b[0m",
            "\u001b[0;31mValueError\u001b[0m: empty separator"
          ]
        }
      ]
    },
    {
      "cell_type": "code",
      "source": [
        "# requires a char\n",
        "words = msg.split(' ')"
      ],
      "metadata": {
        "id": "JXrK15a_J8kM"
      },
      "execution_count": null,
      "outputs": []
    },
    {
      "cell_type": "code",
      "source": [
        "print(words)"
      ],
      "metadata": {
        "colab": {
          "base_uri": "https://localhost:8080/"
        },
        "id": "rViOYUC7KCmv",
        "outputId": "51613453-6568-45e9-84ec-80fb09b5d5c8"
      },
      "execution_count": null,
      "outputs": [
        {
          "output_type": "stream",
          "name": "stdout",
          "text": [
            "['Hello', 'my', 'name', 'is', 'Bob']\n"
          ]
        }
      ]
    },
    {
      "cell_type": "code",
      "source": [
        "elements = msg.split('e')"
      ],
      "metadata": {
        "id": "81qqWDlWKE5c"
      },
      "execution_count": null,
      "outputs": []
    },
    {
      "cell_type": "code",
      "source": [
        "print(elements)"
      ],
      "metadata": {
        "colab": {
          "base_uri": "https://localhost:8080/"
        },
        "id": "Mid6S_3MKMog",
        "outputId": "007cfb2e-eda6-4e93-b696-a73b08bcac98"
      },
      "execution_count": null,
      "outputs": [
        {
          "output_type": "stream",
          "name": "stdout",
          "text": [
            "['H', 'llo my nam', ' is Bob']\n"
          ]
        }
      ]
    },
    {
      "cell_type": "code",
      "source": [
        "# upper() -  param : none\n",
        "# returns string with all char uppercase\n",
        "print(msg.upper())"
      ],
      "metadata": {
        "colab": {
          "base_uri": "https://localhost:8080/"
        },
        "id": "KZ0cWN5OKN7q",
        "outputId": "7c5a6d7b-7085-4b82-a48f-24a3dd5050c0"
      },
      "execution_count": null,
      "outputs": [
        {
          "output_type": "stream",
          "name": "stdout",
          "text": [
            "HELLO MY NAME IS BOB\n"
          ]
        }
      ]
    },
    {
      "cell_type": "code",
      "source": [
        "# lower() - param : none\n",
        "# returns string with all char lowercase\n",
        "print(msg.lower())"
      ],
      "metadata": {
        "colab": {
          "base_uri": "https://localhost:8080/"
        },
        "id": "IXnMcSPdKR1F",
        "outputId": "a388695b-f6af-4a9b-f1f1-1f7788e75120"
      },
      "execution_count": null,
      "outputs": [
        {
          "output_type": "stream",
          "name": "stdout",
          "text": [
            "hello my name is bob\n"
          ]
        }
      ]
    },
    {
      "cell_type": "markdown",
      "source": [
        "#### The input() Method"
      ],
      "metadata": {
        "id": "IimdFHVMKRyZ"
      }
    },
    {
      "cell_type": "code",
      "source": [
        "# get user input\n",
        "# string will be displayed before getting input\n",
        "data = input('What is your name: ')\n",
        "print(f'Hello {data}, hope your day is great!')"
      ],
      "metadata": {
        "colab": {
          "base_uri": "https://localhost:8080/"
        },
        "id": "jEUsitGBMuZY",
        "outputId": "acf8bab6-9a8a-444e-d895-e5f884d802f8"
      },
      "execution_count": null,
      "outputs": [
        {
          "output_type": "stream",
          "name": "stdout",
          "text": [
            "What is your name: Jen\n",
            "Hello Jen, hope your day is great!\n"
          ]
        }
      ]
    },
    {
      "cell_type": "code",
      "source": [
        "print(data)"
      ],
      "metadata": {
        "colab": {
          "base_uri": "https://localhost:8080/"
        },
        "id": "wVvOu7TbKRtw",
        "outputId": "95bdcaef-d5cc-4655-f960-8c523339c9b0"
      },
      "execution_count": null,
      "outputs": [
        {
          "output_type": "stream",
          "name": "stdout",
          "text": [
            "Bob\n"
          ]
        }
      ]
    },
    {
      "cell_type": "code",
      "source": [
        "num = input('enter a number: ')\n",
        "# input is always string\n",
        "# for numbers we must typecaste as desired datatype\n",
        "print(num)"
      ],
      "metadata": {
        "colab": {
          "base_uri": "https://localhost:8080/"
        },
        "id": "6IPbwW76KRrh",
        "outputId": "7f9e8775-9618-475c-8af8-8a15d3505e6b"
      },
      "execution_count": null,
      "outputs": [
        {
          "output_type": "stream",
          "name": "stdout",
          "text": [
            "enter a number: 3\n",
            "3\n"
          ]
        }
      ]
    },
    {
      "cell_type": "code",
      "source": [
        "# num is currently a string\n",
        "type(num)"
      ],
      "metadata": {
        "colab": {
          "base_uri": "https://localhost:8080/"
        },
        "id": "MYKcBccfKRow",
        "outputId": "f0c78f7d-6874-4001-d68b-5ffcf731e742"
      },
      "execution_count": null,
      "outputs": [
        {
          "output_type": "execute_result",
          "data": {
            "text/plain": [
              "str"
            ]
          },
          "metadata": {},
          "execution_count": 66
        }
      ]
    },
    {
      "cell_type": "code",
      "source": [
        "# to get a number"
      ],
      "metadata": {
        "id": "O4bOzEgmKRl7"
      },
      "execution_count": null,
      "outputs": []
    },
    {
      "cell_type": "code",
      "source": [
        "# typecaste string to int\n",
        "num = int(input('enter a number: '))\n",
        "print(num)\n",
        "type(num)"
      ],
      "metadata": {
        "colab": {
          "base_uri": "https://localhost:8080/"
        },
        "id": "Xvhak9JBKRjd",
        "outputId": "fcbbaacb-9985-433c-b514-7cc61d51398e"
      },
      "execution_count": null,
      "outputs": [
        {
          "output_type": "stream",
          "name": "stdout",
          "text": [
            "enter a number: 3\n",
            "3\n"
          ]
        },
        {
          "output_type": "execute_result",
          "data": {
            "text/plain": [
              "int"
            ]
          },
          "metadata": {},
          "execution_count": 68
        }
      ]
    },
    {
      "cell_type": "code",
      "source": [
        "# Group Task: Create a script that greets user\n",
        "\n",
        "name = input('Please enter your name: ')\n",
        "print('Hello {}, how old are you?'.format(name))\n",
        "age = int(input())\n",
        "if age < 18:\n",
        "  print(f'{name} you cannot vote')\n",
        "else:\n",
        "  print(f'{name} you can vote')"
      ],
      "metadata": {
        "colab": {
          "base_uri": "https://localhost:8080/"
        },
        "id": "BBbpuYV5KRgm",
        "outputId": "5a7f6b1c-8afb-43fe-f5fa-7f29dfe6478e"
      },
      "execution_count": null,
      "outputs": [
        {
          "output_type": "stream",
          "name": "stdout",
          "text": [
            "Please enter your name: Bob\n",
            "Hello Bob, how old are you?\n",
            "22\n",
            "Bob you can vote\n"
          ]
        }
      ]
    },
    {
      "cell_type": "markdown",
      "source": [
        "## Numbers"
      ],
      "metadata": {
        "id": "M6DagMzWKRdx"
      }
    },
    {
      "cell_type": "code",
      "source": [
        "cats = 7\n",
        "money = -35.5\n",
        "x = 2+5j\n",
        "message = 'Hello Alice!'"
      ],
      "metadata": {
        "id": "FjR3dLTbKRbR"
      },
      "execution_count": null,
      "outputs": []
    },
    {
      "cell_type": "code",
      "source": [
        "print(type(cats))\n",
        "print(type(money))\n",
        "print(type(x))\n",
        "print(type(message))"
      ],
      "metadata": {
        "colab": {
          "base_uri": "https://localhost:8080/"
        },
        "id": "gEWQyWACKRYH",
        "outputId": "716b3bc6-40dd-40a1-fbe4-d0046cdb4a43"
      },
      "execution_count": null,
      "outputs": [
        {
          "output_type": "stream",
          "name": "stdout",
          "text": [
            "<class 'int'>\n",
            "<class 'float'>\n",
            "<class 'complex'>\n",
            "<class 'str'>\n"
          ]
        }
      ]
    },
    {
      "cell_type": "code",
      "source": [
        "shoes = 5\n",
        "print(f'I own {shoes} pairs of shoes')\n",
        "print(type(shoes))"
      ],
      "metadata": {
        "colab": {
          "base_uri": "https://localhost:8080/"
        },
        "id": "-4KIPBrKKRVm",
        "outputId": "6947d1bc-c09e-4983-c796-adbc1b8c069f"
      },
      "execution_count": null,
      "outputs": [
        {
          "output_type": "stream",
          "name": "stdout",
          "text": [
            "I own 5 pairs of shoes\n",
            "<class 'int'>\n"
          ]
        }
      ]
    },
    {
      "cell_type": "markdown",
      "source": [
        "### Conversions"
      ],
      "metadata": {
        "id": "WrJ104SLKRNz"
      }
    },
    {
      "cell_type": "markdown",
      "source": [
        "#### Type Casting"
      ],
      "metadata": {
        "id": "b9LJNCj_KRIx"
      }
    },
    {
      "cell_type": "code",
      "source": [
        "# how to convert int to float, string to int?"
      ],
      "metadata": {
        "id": "PxpalGdjKRGR"
      },
      "execution_count": null,
      "outputs": []
    },
    {
      "cell_type": "code",
      "source": [
        "value = 3.5\n",
        "convert = int(value)\n",
        "print(convert)\n",
        "print(type(convert))"
      ],
      "metadata": {
        "colab": {
          "base_uri": "https://localhost:8080/"
        },
        "id": "WEj45NJjKRBm",
        "outputId": "d7c79753-39cc-45b2-a149-fd46b0fc7048"
      },
      "execution_count": null,
      "outputs": [
        {
          "output_type": "stream",
          "name": "stdout",
          "text": [
            "3\n",
            "<class 'int'>\n"
          ]
        }
      ]
    },
    {
      "cell_type": "code",
      "source": [
        "number = int('25')\n",
        "print(number)\n",
        "print(type(number))"
      ],
      "metadata": {
        "colab": {
          "base_uri": "https://localhost:8080/"
        },
        "id": "sYWH3HaGYPZ4",
        "outputId": "0b10c45c-57ad-4982-c34f-0ab795538352"
      },
      "execution_count": null,
      "outputs": [
        {
          "output_type": "stream",
          "name": "stdout",
          "text": [
            "25\n",
            "<class 'int'>\n"
          ]
        }
      ]
    },
    {
      "cell_type": "code",
      "source": [
        "num2 = 'twenty'\n",
        "print(int(num2))\n",
        "# unable to typecaste string as int"
      ],
      "metadata": {
        "colab": {
          "base_uri": "https://localhost:8080/",
          "height": 204
        },
        "id": "TpwA7Ax5YPVK",
        "outputId": "78213cbe-cba2-4dd9-d415-0e635270da3b"
      },
      "execution_count": null,
      "outputs": [
        {
          "output_type": "error",
          "ename": "ValueError",
          "evalue": "ignored",
          "traceback": [
            "\u001b[0;31m---------------------------------------------------------------------------\u001b[0m",
            "\u001b[0;31mValueError\u001b[0m                                Traceback (most recent call last)",
            "\u001b[0;32m<ipython-input-81-ab2dd6a18028>\u001b[0m in \u001b[0;36m<cell line: 2>\u001b[0;34m()\u001b[0m\n\u001b[1;32m      1\u001b[0m \u001b[0mnum2\u001b[0m \u001b[0;34m=\u001b[0m \u001b[0;34m'twenty'\u001b[0m\u001b[0;34m\u001b[0m\u001b[0;34m\u001b[0m\u001b[0m\n\u001b[0;32m----> 2\u001b[0;31m \u001b[0mprint\u001b[0m\u001b[0;34m(\u001b[0m\u001b[0mint\u001b[0m\u001b[0;34m(\u001b[0m\u001b[0mnum2\u001b[0m\u001b[0;34m)\u001b[0m\u001b[0;34m)\u001b[0m\u001b[0;34m\u001b[0m\u001b[0;34m\u001b[0m\u001b[0m\n\u001b[0m",
            "\u001b[0;31mValueError\u001b[0m: invalid literal for int() with base 10: 'twenty'"
          ]
        }
      ]
    },
    {
      "cell_type": "code",
      "source": [
        "value = 78\n",
        "convert = float(value)\n",
        "print(convert)\n",
        "print(type(convert))\n",
        "convert = float('56.48')\n",
        "print(convert)\n",
        "print(type(convert))"
      ],
      "metadata": {
        "colab": {
          "base_uri": "https://localhost:8080/"
        },
        "id": "-lNuf8j6YPLk",
        "outputId": "7bf16fd5-5570-4ab6-c24d-468d172e7803"
      },
      "execution_count": null,
      "outputs": [
        {
          "output_type": "stream",
          "name": "stdout",
          "text": [
            "78.0\n",
            "<class 'float'>\n",
            "56.48\n",
            "<class 'float'>\n"
          ]
        }
      ]
    },
    {
      "cell_type": "code",
      "source": [
        "value = 38\n",
        "convert = complex(value)\n",
        "print(convert)\n",
        "print(type(convert))"
      ],
      "metadata": {
        "colab": {
          "base_uri": "https://localhost:8080/"
        },
        "id": "pMLWhBsPYPI9",
        "outputId": "13c60071-e890-48a1-f335-3aa9b383634a"
      },
      "execution_count": null,
      "outputs": [
        {
          "output_type": "stream",
          "name": "stdout",
          "text": [
            "(38+0j)\n",
            "<class 'complex'>\n"
          ]
        }
      ]
    },
    {
      "cell_type": "code",
      "source": [
        "value = 28.4875\n",
        "convert = str(value)\n",
        "print(convert)\n",
        "print(type(convert))"
      ],
      "metadata": {
        "colab": {
          "base_uri": "https://localhost:8080/"
        },
        "id": "iQTg_TsiYPAk",
        "outputId": "2afd4628-f363-41da-d0b8-8dcf841ae676"
      },
      "execution_count": null,
      "outputs": [
        {
          "output_type": "stream",
          "name": "stdout",
          "text": [
            "28.4875\n",
            "<class 'str'>\n"
          ]
        }
      ]
    },
    {
      "cell_type": "code",
      "source": [
        "value = '5j'\n",
        "convert = int(value)\n",
        "print(convert)\n",
        "print(type(convert))\n",
        "# unable to typecaste string as int"
      ],
      "metadata": {
        "colab": {
          "base_uri": "https://localhost:8080/",
          "height": 239
        },
        "id": "0W5_gmXWYO9w",
        "outputId": "a512a4ed-16d5-4535-e498-e8e2dd8c1cc0"
      },
      "execution_count": null,
      "outputs": [
        {
          "output_type": "error",
          "ename": "ValueError",
          "evalue": "ignored",
          "traceback": [
            "\u001b[0;31m---------------------------------------------------------------------------\u001b[0m",
            "\u001b[0;31mValueError\u001b[0m                                Traceback (most recent call last)",
            "\u001b[0;32m<ipython-input-85-16ae0b9ca8cf>\u001b[0m in \u001b[0;36m<cell line: 2>\u001b[0;34m()\u001b[0m\n\u001b[1;32m      1\u001b[0m \u001b[0mvalue\u001b[0m \u001b[0;34m=\u001b[0m \u001b[0;34m'5j'\u001b[0m\u001b[0;34m\u001b[0m\u001b[0;34m\u001b[0m\u001b[0m\n\u001b[0;32m----> 2\u001b[0;31m \u001b[0mconvert\u001b[0m \u001b[0;34m=\u001b[0m \u001b[0mint\u001b[0m\u001b[0;34m(\u001b[0m\u001b[0mvalue\u001b[0m\u001b[0;34m)\u001b[0m\u001b[0;34m\u001b[0m\u001b[0;34m\u001b[0m\u001b[0m\n\u001b[0m\u001b[1;32m      3\u001b[0m \u001b[0mprint\u001b[0m\u001b[0;34m(\u001b[0m\u001b[0mconvert\u001b[0m\u001b[0;34m)\u001b[0m\u001b[0;34m\u001b[0m\u001b[0;34m\u001b[0m\u001b[0m\n\u001b[1;32m      4\u001b[0m \u001b[0mprint\u001b[0m\u001b[0;34m(\u001b[0m\u001b[0mtype\u001b[0m\u001b[0;34m(\u001b[0m\u001b[0mconvert\u001b[0m\u001b[0;34m)\u001b[0m\u001b[0;34m)\u001b[0m\u001b[0;34m\u001b[0m\u001b[0;34m\u001b[0m\u001b[0m\n",
            "\u001b[0;31mValueError\u001b[0m: invalid literal for int() with base 10: '5j'"
          ]
        }
      ]
    },
    {
      "cell_type": "code",
      "source": [
        "data = input('please enter a value: ')\n",
        "print(int(data))\n",
        "print(float(data))\n",
        "print(complex(data))\n",
        "print(str(data))\n",
        "print(data)\n",
        "# data variable remains untouched!"
      ],
      "metadata": {
        "colab": {
          "base_uri": "https://localhost:8080/"
        },
        "id": "4w_7LmnuYO7O",
        "outputId": "d2bc02fa-1e76-4276-82d2-3d9b48e36886"
      },
      "execution_count": 22,
      "outputs": [
        {
          "output_type": "stream",
          "name": "stdout",
          "text": [
            "please enter a value: 42\n",
            "42\n",
            "42.0\n",
            "(42+0j)\n",
            "42\n",
            "42\n"
          ]
        }
      ]
    },
    {
      "cell_type": "code",
      "source": [
        "pi = 3.14159\n",
        "print(int(pi))\n",
        "print(float(pi))\n",
        "print(complex(pi))\n",
        "print(str(pi))"
      ],
      "metadata": {
        "colab": {
          "base_uri": "https://localhost:8080/"
        },
        "id": "avYmD5fmYO4R",
        "outputId": "18e5ff91-97b8-4183-e414-4d2e7a202325"
      },
      "execution_count": null,
      "outputs": [
        {
          "output_type": "stream",
          "name": "stdout",
          "text": [
            "3\n",
            "3.14159\n",
            "(3.14159+0j)\n",
            "3.14159\n"
          ]
        }
      ]
    },
    {
      "cell_type": "markdown",
      "source": [
        "### Operations"
      ],
      "metadata": {
        "id": "EiWOdPAoYO1W"
      }
    },
    {
      "cell_type": "markdown",
      "source": [
        "#### Modulus Operator"
      ],
      "metadata": {
        "id": "uOuXg_j0YOy3"
      }
    },
    {
      "cell_type": "code",
      "source": [
        "# foo/bar returns result of division\n",
        "print(259/4)\n",
        "print(259%4)\n",
        "# foo%bar returns remainder"
      ],
      "metadata": {
        "colab": {
          "base_uri": "https://localhost:8080/"
        },
        "id": "2MMaB7RHYOwl",
        "outputId": "fe935aac-bf16-4cc5-91e1-0c605a3d6a57"
      },
      "execution_count": null,
      "outputs": [
        {
          "output_type": "stream",
          "name": "stdout",
          "text": [
            "64.75\n",
            "3\n"
          ]
        }
      ]
    },
    {
      "cell_type": "markdown",
      "source": [
        "#### The Power or Exponent Operator"
      ],
      "metadata": {
        "id": "lZGUXqVbYOuF"
      }
    },
    {
      "cell_type": "code",
      "source": [
        "# ** returns foo^bar\n",
        "print(9**4)"
      ],
      "metadata": {
        "colab": {
          "base_uri": "https://localhost:8080/"
        },
        "id": "IGR3TTuVYOrl",
        "outputId": "4bb26f5b-12ac-4701-b53b-493e1b02ca2a"
      },
      "execution_count": null,
      "outputs": [
        {
          "output_type": "stream",
          "name": "stdout",
          "text": [
            "6561\n"
          ]
        }
      ]
    },
    {
      "cell_type": "code",
      "source": [
        "2**2"
      ],
      "metadata": {
        "colab": {
          "base_uri": "https://localhost:8080/"
        },
        "id": "P8rkTeiTYOpD",
        "outputId": "edf67bbd-0bc7-4324-92d0-967185de0478"
      },
      "execution_count": null,
      "outputs": [
        {
          "output_type": "execute_result",
          "data": {
            "text/plain": [
              "4"
            ]
          },
          "metadata": {},
          "execution_count": 91
        }
      ]
    },
    {
      "cell_type": "markdown",
      "source": [
        "#### The Floor Operator"
      ],
      "metadata": {
        "id": "1p1-OZ62awd1"
      }
    },
    {
      "cell_type": "code",
      "source": [
        "# foo//bar returns rounded down result of division\n",
        "print(9//4)\n",
        "# there is no ceiling equivalent..."
      ],
      "metadata": {
        "colab": {
          "base_uri": "https://localhost:8080/"
        },
        "id": "ETxfQbuWawbW",
        "outputId": "9430ec05-2505-4ca9-b534-46818d7cdd9c"
      },
      "execution_count": null,
      "outputs": [
        {
          "output_type": "stream",
          "name": "stdout",
          "text": [
            "2\n"
          ]
        }
      ]
    },
    {
      "cell_type": "markdown",
      "source": [
        "#### Assignment Operators"
      ],
      "metadata": {
        "id": "0MXS1gw7awYp"
      }
    },
    {
      "cell_type": "code",
      "source": [
        "x = 9 # assign\n",
        "x += 4 # reassign x to x plus 4\n",
        "x -= 4 # reassign x to x minus 4\n",
        "x *= 4 # reassign x to x times 4\n",
        "x /= 4 # reassign x to x divided by 4\n"
      ],
      "metadata": {
        "id": "iDlVZYbFawWO"
      },
      "execution_count": null,
      "outputs": []
    },
    {
      "cell_type": "code",
      "source": [
        "# Group Task: Ask for 2 numbers, return + , - , x , ÷ of the numbers\n",
        "\n",
        "\n",
        "num1 = float(input('Enter a number: '))\n",
        "num2 = float(input('Enter a second number: '))\n",
        "\n",
        "print('{} + {} = {}'.format(num1, num2, num1+num2))\n",
        "print('{} - {} = {}'.format(num1, num2, num1-num2))\n",
        "print('{} x {} = {}'.format(num1, num2, num1*num2))\n",
        "print('{} ÷ {} = {}'.format(num1, num2, num1/num2))"
      ],
      "metadata": {
        "colab": {
          "base_uri": "https://localhost:8080/"
        },
        "id": "pXYOBE7sawTi",
        "outputId": "912e6d15-4e90-4608-cef3-8320a07a3230"
      },
      "execution_count": null,
      "outputs": [
        {
          "output_type": "stream",
          "name": "stdout",
          "text": [
            "Enter a number: 18\n",
            "Enter a second number: 12\n",
            "18.0 + 12.0 = 30.0\n",
            "18.0 - 12.0 = 6.0\n",
            "18.0 x 12.0 = 216.0\n",
            "18.0 ÷ 12.0 = 1.5\n"
          ]
        }
      ]
    },
    {
      "cell_type": "code",
      "source": [],
      "metadata": {
        "id": "x397dR_7awRA"
      },
      "execution_count": null,
      "outputs": []
    },
    {
      "cell_type": "code",
      "source": [],
      "metadata": {
        "id": "IfhwWUbYawOf"
      },
      "execution_count": null,
      "outputs": []
    },
    {
      "cell_type": "code",
      "source": [],
      "metadata": {
        "id": "mWiPUTbzawMB"
      },
      "execution_count": null,
      "outputs": []
    },
    {
      "cell_type": "code",
      "source": [],
      "metadata": {
        "id": "BFuXPybtawJN"
      },
      "execution_count": null,
      "outputs": []
    },
    {
      "cell_type": "code",
      "source": [],
      "metadata": {
        "id": "WsrWb90RawGf"
      },
      "execution_count": null,
      "outputs": []
    },
    {
      "cell_type": "code",
      "source": [],
      "metadata": {
        "id": "D6LBhzd8awEF"
      },
      "execution_count": null,
      "outputs": []
    },
    {
      "cell_type": "code",
      "source": [],
      "metadata": {
        "id": "r1NSKoUiawBS"
      },
      "execution_count": null,
      "outputs": []
    },
    {
      "cell_type": "code",
      "source": [],
      "metadata": {
        "id": "MhlND-UXav6Y"
      },
      "execution_count": null,
      "outputs": []
    },
    {
      "cell_type": "code",
      "source": [],
      "metadata": {
        "id": "ggSQvpq7av0X"
      },
      "execution_count": null,
      "outputs": []
    },
    {
      "cell_type": "code",
      "source": [],
      "metadata": {
        "id": "98cte4U3avyN"
      },
      "execution_count": null,
      "outputs": []
    },
    {
      "cell_type": "code",
      "source": [],
      "metadata": {
        "id": "bKwBrcpSavvJ"
      },
      "execution_count": null,
      "outputs": []
    },
    {
      "cell_type": "code",
      "source": [],
      "metadata": {
        "id": "jtWhXnVRavsU"
      },
      "execution_count": null,
      "outputs": []
    },
    {
      "cell_type": "code",
      "source": [],
      "metadata": {
        "id": "AHVmKVusavpN"
      },
      "execution_count": null,
      "outputs": []
    }
  ]
}