{
  "nbformat": 4,
  "nbformat_minor": 0,
  "metadata": {
    "colab": {
      "provenance": [],
      "authorship_tag": "ABX9TyP5eGOqIxuuYcJAm6pArY6t",
      "include_colab_link": true
    },
    "kernelspec": {
      "name": "python3",
      "display_name": "Python 3"
    },
    "language_info": {
      "name": "python"
    }
  },
  "cells": [
    {
      "cell_type": "markdown",
      "metadata": {
        "id": "view-in-github",
        "colab_type": "text"
      },
      "source": [
        "<a href=\"https://colab.research.google.com/github/hazedCadet/TTP-summer-23/blob/main/Intro_to_Python_IV.ipynb\" target=\"_parent\"><img src=\"https://colab.research.google.com/assets/colab-badge.svg\" alt=\"Open In Colab\"/></a>"
      ]
    },
    {
      "cell_type": "markdown",
      "source": [
        "# Functions"
      ],
      "metadata": {
        "id": "GClSWYXNe3VL"
      }
    },
    {
      "cell_type": "code",
      "source": [
        "# def function_name(para, meters):\n",
        "# def is keyword and must always be present when DEFining functions\n",
        "def say_hi():\n",
        "  print('hi there')"
      ],
      "metadata": {
        "id": "1tJzJ0q_e_E-"
      },
      "execution_count": 1,
      "outputs": []
    },
    {
      "cell_type": "code",
      "source": [
        "say_hi()"
      ],
      "metadata": {
        "colab": {
          "base_uri": "https://localhost:8080/"
        },
        "id": "ammAqdzke_CL",
        "outputId": "94d1d15e-8629-45b4-98d9-3a86cc0852f7"
      },
      "execution_count": 2,
      "outputs": [
        {
          "output_type": "stream",
          "name": "stdout",
          "text": [
            "hi there\n"
          ]
        }
      ]
    },
    {
      "cell_type": "code",
      "source": [
        "for i in range(3):\n",
        "  say_hi()"
      ],
      "metadata": {
        "colab": {
          "base_uri": "https://localhost:8080/"
        },
        "id": "5wdsyobDe-_r",
        "outputId": "32813f15-14d9-45fd-ee96-f4e835167a06"
      },
      "execution_count": 3,
      "outputs": [
        {
          "output_type": "stream",
          "name": "stdout",
          "text": [
            "hi there\n",
            "hi there\n",
            "hi there\n"
          ]
        }
      ]
    },
    {
      "cell_type": "code",
      "source": [
        "def print_numbers():\n",
        "  for i in range(10):\n",
        "    print('{}'.format(i), end=' ')\n",
        "  print()"
      ],
      "metadata": {
        "id": "G3E1oLEIe-9K"
      },
      "execution_count": 38,
      "outputs": []
    },
    {
      "cell_type": "code",
      "source": [
        "print_numbers()"
      ],
      "metadata": {
        "colab": {
          "base_uri": "https://localhost:8080/"
        },
        "id": "82_6oMrte-6g",
        "outputId": "421b8cd7-af51-47b7-878a-ddc68b23e31c"
      },
      "execution_count": 39,
      "outputs": [
        {
          "output_type": "stream",
          "name": "stdout",
          "text": [
            "0 1 2 3 4 5 6 7 8 9 \n"
          ]
        }
      ]
    },
    {
      "cell_type": "code",
      "source": [
        "def print_numbers():\n",
        "  for i  in range(10):\n",
        "    print(f'{i}', end=' ')\n",
        "  print()"
      ],
      "metadata": {
        "id": "1rBdOJlHe-30"
      },
      "execution_count": 40,
      "outputs": []
    },
    {
      "cell_type": "code",
      "source": [
        "print_numbers()"
      ],
      "metadata": {
        "colab": {
          "base_uri": "https://localhost:8080/"
        },
        "id": "QBfWJRXFe-0_",
        "outputId": "8dbd59e7-92a9-4ba8-e977-7cc4782b5ed4"
      },
      "execution_count": 41,
      "outputs": [
        {
          "output_type": "stream",
          "name": "stdout",
          "text": [
            "0 1 2 3 4 5 6 7 8 9 \n"
          ]
        }
      ]
    },
    {
      "cell_type": "code",
      "source": [
        "def multiply():\n",
        "  number = int(input('Please enter a number: '))\n",
        "  print('{} * 17 = {}'.format(number, number * 17))\n",
        "\n",
        "\n",
        "# POOR PRACTICE\n",
        "# do not get function variables within the function"
      ],
      "metadata": {
        "id": "NQA2WmNMe-yN"
      },
      "execution_count": 12,
      "outputs": []
    },
    {
      "cell_type": "code",
      "source": [
        "multiply()"
      ],
      "metadata": {
        "colab": {
          "base_uri": "https://localhost:8080/"
        },
        "id": "W1heNPj4e-va",
        "outputId": "a9a540bd-7525-43b1-9e72-d281c835eb83"
      },
      "execution_count": 13,
      "outputs": [
        {
          "output_type": "stream",
          "name": "stdout",
          "text": [
            "Please enter a number: 3\n",
            "3 * 17 = 51\n"
          ]
        }
      ]
    },
    {
      "cell_type": "code",
      "source": [
        "number = int(input('enter a number: '))\n",
        "def multiply():\n",
        "  print(f'{number} * 17 = {number * 17}')\n",
        "\n",
        "  # forgot to call function...."
      ],
      "metadata": {
        "colab": {
          "base_uri": "https://localhost:8080/"
        },
        "id": "3tDK_hJfe-sm",
        "outputId": "9af8f039-630c-4bd8-c636-4206031e14bd"
      },
      "execution_count": 16,
      "outputs": [
        {
          "name": "stdout",
          "output_type": "stream",
          "text": [
            "enter a number: 3\n"
          ]
        }
      ]
    },
    {
      "cell_type": "code",
      "source": [
        "# GOOD PRACTICE\n",
        "number = int(input('enter a number: '))\n",
        "def multiply():\n",
        "  print(f'{number} * 17 = {number * 17}')\n",
        "multiply()"
      ],
      "metadata": {
        "colab": {
          "base_uri": "https://localhost:8080/"
        },
        "id": "2jKy1JkAe-qY",
        "outputId": "8ae10071-8fc9-4580-c70a-1b71a44e2fb2"
      },
      "execution_count": 17,
      "outputs": [
        {
          "output_type": "stream",
          "name": "stdout",
          "text": [
            "enter a number: 3\n",
            "3 * 17 = 51\n"
          ]
        }
      ]
    },
    {
      "cell_type": "markdown",
      "source": [
        "## Function Paramters"
      ],
      "metadata": {
        "id": "7WpvKAZpe-ni"
      }
    },
    {
      "cell_type": "code",
      "source": [
        "# parameters are dev defined variables\n",
        "# arguments are variables passed to functions\n",
        "\n",
        "number = int(input('enter a number: '))\n",
        "\n",
        "def multiply(number):\n",
        "  print(f'{number} * 17 = {number * 17}')\n",
        "\n",
        "multiply()\n",
        "# function requiring parameter needs argument!"
      ],
      "metadata": {
        "colab": {
          "base_uri": "https://localhost:8080/",
          "height": 219
        },
        "id": "LHr_rDSUe-lD",
        "outputId": "24f32d73-0ce5-412a-a518-460c5ecaac46"
      },
      "execution_count": 19,
      "outputs": [
        {
          "name": "stdout",
          "output_type": "stream",
          "text": [
            "enter a number: 3\n"
          ]
        },
        {
          "output_type": "error",
          "ename": "TypeError",
          "evalue": "ignored",
          "traceback": [
            "\u001b[0;31m---------------------------------------------------------------------------\u001b[0m",
            "\u001b[0;31mTypeError\u001b[0m                                 Traceback (most recent call last)",
            "\u001b[0;32m<ipython-input-19-a53e7ef609ab>\u001b[0m in \u001b[0;36m<cell line: 9>\u001b[0;34m()\u001b[0m\n\u001b[1;32m      7\u001b[0m   \u001b[0mprint\u001b[0m\u001b[0;34m(\u001b[0m\u001b[0;34mf'{number} * 17 = {number * 17}'\u001b[0m\u001b[0;34m)\u001b[0m\u001b[0;34m\u001b[0m\u001b[0;34m\u001b[0m\u001b[0m\n\u001b[1;32m      8\u001b[0m \u001b[0;34m\u001b[0m\u001b[0m\n\u001b[0;32m----> 9\u001b[0;31m \u001b[0mmultiply\u001b[0m\u001b[0;34m(\u001b[0m\u001b[0;34m)\u001b[0m\u001b[0;34m\u001b[0m\u001b[0;34m\u001b[0m\u001b[0m\n\u001b[0m",
            "\u001b[0;31mTypeError\u001b[0m: multiply() missing 1 required positional argument: 'number'"
          ]
        }
      ]
    },
    {
      "cell_type": "code",
      "source": [
        "# parameters are dev defined variables\n",
        "# arguments are variables passed to functions\n",
        "\n",
        "number = int(input('enter a number: '))\n",
        "\n",
        "def multiply(number):\n",
        "  print(f'{number} * 17 = {number * 17}')\n",
        "\n",
        "multiply(number)\n",
        "# function requiring parameter needs argument!"
      ],
      "metadata": {
        "colab": {
          "base_uri": "https://localhost:8080/"
        },
        "id": "W_HH8sSLe-ii",
        "outputId": "1ceeeb4c-e9dd-4171-c22c-64598a5acf54"
      },
      "execution_count": 20,
      "outputs": [
        {
          "output_type": "stream",
          "name": "stdout",
          "text": [
            "enter a number: 3\n",
            "3 * 17 = 51\n"
          ]
        }
      ]
    },
    {
      "cell_type": "code",
      "source": [
        "def say_hi(name, times):\n",
        "  for i in range(times):\n",
        "    print(f'hi there {name}')"
      ],
      "metadata": {
        "id": "VqyJXMpae-gX"
      },
      "execution_count": 21,
      "outputs": []
    },
    {
      "cell_type": "code",
      "source": [
        "say_hi()"
      ],
      "metadata": {
        "colab": {
          "base_uri": "https://localhost:8080/",
          "height": 167
        },
        "id": "7kRF10X_e-bW",
        "outputId": "6d400759-431e-45fe-98bc-0be33659c2b3"
      },
      "execution_count": 22,
      "outputs": [
        {
          "output_type": "error",
          "ename": "TypeError",
          "evalue": "ignored",
          "traceback": [
            "\u001b[0;31m---------------------------------------------------------------------------\u001b[0m",
            "\u001b[0;31mTypeError\u001b[0m                                 Traceback (most recent call last)",
            "\u001b[0;32m<ipython-input-22-6acd93c5568f>\u001b[0m in \u001b[0;36m<cell line: 1>\u001b[0;34m()\u001b[0m\n\u001b[0;32m----> 1\u001b[0;31m \u001b[0msay_hi\u001b[0m\u001b[0;34m(\u001b[0m\u001b[0;34m)\u001b[0m\u001b[0;34m\u001b[0m\u001b[0;34m\u001b[0m\u001b[0m\n\u001b[0m",
            "\u001b[0;31mTypeError\u001b[0m: say_hi() missing 2 required positional arguments: 'name' and 'times'"
          ]
        }
      ]
    },
    {
      "cell_type": "code",
      "source": [
        "say_hi('Sarah Conner', 5)"
      ],
      "metadata": {
        "colab": {
          "base_uri": "https://localhost:8080/"
        },
        "id": "unzResz9e-Y3",
        "outputId": "8c1b9c46-1367-4b14-d7b1-e82f454e8506"
      },
      "execution_count": 23,
      "outputs": [
        {
          "output_type": "stream",
          "name": "stdout",
          "text": [
            "hi there Sarah Conner\n",
            "hi there Sarah Conner\n",
            "hi there Sarah Conner\n",
            "hi there Sarah Conner\n",
            "hi there Sarah Conner\n"
          ]
        }
      ]
    },
    {
      "cell_type": "code",
      "source": [
        "def capitalize(message, amount=1):\n",
        "  new_message = ''\n",
        "  for i in range(amount):\n",
        "    new_message += message[i].upper()\n",
        "  new_message += message[amount:]\n",
        "  print(new_message)"
      ],
      "metadata": {
        "id": "VAS8TZIJe-WW"
      },
      "execution_count": 24,
      "outputs": []
    },
    {
      "cell_type": "code",
      "source": [
        "capitalize('it\\'s nice out today')\n",
        "# although 2 parameters defined, one has a default"
      ],
      "metadata": {
        "colab": {
          "base_uri": "https://localhost:8080/"
        },
        "id": "URxWahoee-T3",
        "outputId": "d1c0dc46-7755-4d34-e4c0-71d068c510fd"
      },
      "execution_count": 25,
      "outputs": [
        {
          "output_type": "stream",
          "name": "stdout",
          "text": [
            "It's nice out today\n"
          ]
        }
      ]
    },
    {
      "cell_type": "code",
      "source": [
        "capitalize('it is still nice out', 6)\n",
        "# still accepts arguments in place of default"
      ],
      "metadata": {
        "colab": {
          "base_uri": "https://localhost:8080/"
        },
        "id": "6dJcLGc-e-RW",
        "outputId": "aa29a990-d62d-4649-85a7-d3bf98502067"
      },
      "execution_count": 26,
      "outputs": [
        {
          "output_type": "stream",
          "name": "stdout",
          "text": [
            "IT IS still nice out\n"
          ]
        }
      ]
    },
    {
      "cell_type": "markdown",
      "source": [
        "## The `return` keyword"
      ],
      "metadata": {
        "id": "1yzqB-g3e-Mp"
      }
    },
    {
      "cell_type": "code",
      "source": [
        "# what happens in functions, stays in functions"
      ],
      "metadata": {
        "id": "CkuBQVI5e-IR"
      },
      "execution_count": 27,
      "outputs": []
    },
    {
      "cell_type": "code",
      "source": [
        "def square(number):\n",
        "  return number*number\n",
        "\n",
        "square(3)"
      ],
      "metadata": {
        "colab": {
          "base_uri": "https://localhost:8080/"
        },
        "id": "e31NY6Mpe-GZ",
        "outputId": "797e235b-e5f3-48fe-a4f7-4a792b054d43"
      },
      "execution_count": 28,
      "outputs": [
        {
          "output_type": "execute_result",
          "data": {
            "text/plain": [
              "9"
            ]
          },
          "metadata": {},
          "execution_count": 28
        }
      ]
    },
    {
      "cell_type": "code",
      "source": [
        "for i in range(10):\n",
        "  print(square(i))"
      ],
      "metadata": {
        "colab": {
          "base_uri": "https://localhost:8080/"
        },
        "id": "9N09aMipe-EN",
        "outputId": "34aff96b-99aa-4d64-b4ce-870c7e6a714d"
      },
      "execution_count": 29,
      "outputs": [
        {
          "output_type": "stream",
          "name": "stdout",
          "text": [
            "0\n",
            "1\n",
            "4\n",
            "9\n",
            "16\n",
            "25\n",
            "36\n",
            "49\n",
            "64\n",
            "81\n"
          ]
        }
      ]
    },
    {
      "cell_type": "code",
      "source": [
        "def goodbye(name):\n",
        "  if name[0].upper() == 'A':\n",
        "    return f'Adios {name}'\n",
        "  elif name[0].upper() == 'B':\n",
        "    return f'Bye {name}'\n",
        "  elif name[0].upper() == 'C':\n",
        "    return f'Ciao {name}'\n",
        "  else:\n",
        "    return f'Goodbye {name}'"
      ],
      "metadata": {
        "id": "3pXytJpJe-CW"
      },
      "execution_count": 30,
      "outputs": []
    },
    {
      "cell_type": "code",
      "source": [
        "print(goodbye('Alice'))"
      ],
      "metadata": {
        "colab": {
          "base_uri": "https://localhost:8080/"
        },
        "id": "VEpm-lxSk0pF",
        "outputId": "a5df6615-b0c8-49de-ad2b-1890745ad2fb"
      },
      "execution_count": 31,
      "outputs": [
        {
          "output_type": "stream",
          "name": "stdout",
          "text": [
            "Adios Alice\n"
          ]
        }
      ]
    },
    {
      "cell_type": "code",
      "source": [
        "print(goodbye('Brandon'))"
      ],
      "metadata": {
        "colab": {
          "base_uri": "https://localhost:8080/"
        },
        "id": "2G58Kko-k0ls",
        "outputId": "cde3996c-a82d-4e69-f873-ee1ba852e8ab"
      },
      "execution_count": 32,
      "outputs": [
        {
          "output_type": "stream",
          "name": "stdout",
          "text": [
            "Bye Brandon\n"
          ]
        }
      ]
    },
    {
      "cell_type": "code",
      "source": [
        "print(goodbye('Christy'))"
      ],
      "metadata": {
        "colab": {
          "base_uri": "https://localhost:8080/"
        },
        "id": "yiYGont3k0ie",
        "outputId": "e466653c-b011-4781-b07e-52654da88fac"
      },
      "execution_count": 33,
      "outputs": [
        {
          "output_type": "stream",
          "name": "stdout",
          "text": [
            "Ciao Christy\n"
          ]
        }
      ]
    },
    {
      "cell_type": "code",
      "source": [
        "print(goodbye('Daphne'))"
      ],
      "metadata": {
        "colab": {
          "base_uri": "https://localhost:8080/"
        },
        "id": "6PnW9wDLk0gS",
        "outputId": "5f8f3265-d1cf-4e25-af68-008c6743f949"
      },
      "execution_count": 34,
      "outputs": [
        {
          "output_type": "stream",
          "name": "stdout",
          "text": [
            "Goodbye Daphne\n"
          ]
        }
      ]
    },
    {
      "cell_type": "code",
      "source": [
        "### Practice:\n",
        "\n",
        "# Group activity:\n",
        "\n",
        "# get user input and make calculator\n",
        "\n",
        "# user input will be use in + , - , x, ÷"
      ],
      "metadata": {
        "id": "l2Q-goTPk0eG"
      },
      "execution_count": null,
      "outputs": []
    },
    {
      "cell_type": "code",
      "source": [
        "num1 = float(input('Enter a number: '))\n",
        "num2 = float(input('Enter a second number: '))\n",
        "\n",
        "def addition(x, y):\n",
        "  return x + y\n",
        "\n",
        "def subtraction(x,y):\n",
        "  return x - y\n",
        "\n",
        "def multiplication(x, y):\n",
        "  return x * y\n",
        "\n",
        "def division(x, y):\n",
        "  return x / y\n",
        "\n",
        "def exponent(x, y):\n",
        "  return x ** y\n",
        "\n",
        "print(f'{num1} + {num2} = ', addition(num1, num2))\n",
        "print(f'{num1} - {num2} = ', subtraction(num1, num2))\n",
        "print(f'{num1} * {num2} = ', multiplication(num1, num2))\n",
        "print(f'{num1} / {num2} = ', division(num1, num2))\n",
        "print(f'{num1} ^ {num2} = ', exponent(num1, num2))"
      ],
      "metadata": {
        "colab": {
          "base_uri": "https://localhost:8080/"
        },
        "id": "DgrzUGCCk0aq",
        "outputId": "aee1532b-0ffc-416e-973b-85f5f652c8cb"
      },
      "execution_count": 37,
      "outputs": [
        {
          "output_type": "stream",
          "name": "stdout",
          "text": [
            "Enter a number: 3\n",
            "Enter a second number: 4\n",
            "3.0 + 4.0 =  7.0\n",
            "3.0 - 4.0 =  -1.0\n",
            "3.0 * 4.0 =  12.0\n",
            "3.0 / 4.0 =  0.75\n",
            "3.0 ^ 4.0 =  81.0\n"
          ]
        }
      ]
    }
  ]
}