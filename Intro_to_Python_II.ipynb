{
  "nbformat": 4,
  "nbformat_minor": 0,
  "metadata": {
    "colab": {
      "provenance": [],
      "authorship_tag": "ABX9TyMIbMEGq6tjUcxR6UEkMkwF",
      "include_colab_link": true
    },
    "kernelspec": {
      "name": "python3",
      "display_name": "Python 3"
    },
    "language_info": {
      "name": "python"
    }
  },
  "cells": [
    {
      "cell_type": "markdown",
      "metadata": {
        "id": "view-in-github",
        "colab_type": "text"
      },
      "source": [
        "<a href=\"https://colab.research.google.com/github/hazedCadet/TTP-summer-23/blob/main/Intro_to_Python_II.ipynb\" target=\"_parent\"><img src=\"https://colab.research.google.com/assets/colab-badge.svg\" alt=\"Open In Colab\"/></a>"
      ]
    },
    {
      "cell_type": "markdown",
      "source": [
        "# Operators"
      ],
      "metadata": {
        "id": "Bwkt1Hd-t2Io"
      }
    },
    {
      "cell_type": "markdown",
      "source": [
        "## Boolean Operator"
      ],
      "metadata": {
        "id": "_3X2YL31uAB9"
      }
    },
    {
      "cell_type": "code",
      "source": [
        "is_day = True\n",
        "is_night = False\n",
        "print(is_day)"
      ],
      "metadata": {
        "colab": {
          "base_uri": "https://localhost:8080/"
        },
        "id": "xUpxqnzluEp6",
        "outputId": "9aec9d5e-7651-4d4c-a1b3-02c136c90e8b"
      },
      "execution_count": null,
      "outputs": [
        {
          "output_type": "stream",
          "name": "stdout",
          "text": [
            "True\n"
          ]
        }
      ]
    },
    {
      "cell_type": "markdown",
      "source": [
        "## Comparison Operators"
      ],
      "metadata": {
        "id": "JWX-FJvIuApD"
      }
    },
    {
      "cell_type": "code",
      "source": [
        "x, y = 9, 25\n",
        "print(x == y) # does x equal y?\n",
        "print(x != y) # is x not equal y?\n",
        "print(x < y) # is x smaller y?\n",
        "print(x > y) # is x bigger y?\n",
        "print(x <= y) # is x less than or equal to y?\n",
        "print(x >= y) # is x bigger than or equal to y?"
      ],
      "metadata": {
        "colab": {
          "base_uri": "https://localhost:8080/"
        },
        "id": "e8cntXdcuAl7",
        "outputId": "46ac6bf1-1fff-4637-cfbd-59e1617d9d35"
      },
      "execution_count": null,
      "outputs": [
        {
          "output_type": "stream",
          "name": "stdout",
          "text": [
            "False\n",
            "True\n",
            "True\n",
            "False\n",
            "True\n",
            "False\n"
          ]
        }
      ]
    },
    {
      "cell_type": "markdown",
      "source": [
        "## Logical Operators"
      ],
      "metadata": {
        "id": "bS_TotcMuAjH"
      }
    },
    {
      "cell_type": "markdown",
      "source": [
        "### AND"
      ],
      "metadata": {
        "id": "vkMi47O8xnre"
      }
    },
    {
      "cell_type": "code",
      "source": [
        "# is x greater than 5 AND ALSO y is less than 30?\n",
        "print(x > 5 and y < 30)"
      ],
      "metadata": {
        "colab": {
          "base_uri": "https://localhost:8080/"
        },
        "id": "t12vOcWZuAgn",
        "outputId": "9aa3e16b-fe77-401d-80a8-b6f37e61c7cf"
      },
      "execution_count": null,
      "outputs": [
        {
          "output_type": "stream",
          "name": "stdout",
          "text": [
            "True\n"
          ]
        }
      ]
    },
    {
      "cell_type": "code",
      "source": [
        "# is x greater than 10 AND ALSO y less than 30?\n",
        "print(x > 10 and y < 30)"
      ],
      "metadata": {
        "colab": {
          "base_uri": "https://localhost:8080/"
        },
        "id": "2VXOqOwYuAeH",
        "outputId": "7e10c1b9-c728-4625-8777-02e84d515775"
      },
      "execution_count": null,
      "outputs": [
        {
          "output_type": "stream",
          "name": "stdout",
          "text": [
            "False\n"
          ]
        }
      ]
    },
    {
      "cell_type": "markdown",
      "source": [
        "### OR"
      ],
      "metadata": {
        "id": "FHKnW4NluAb6"
      }
    },
    {
      "cell_type": "code",
      "source": [
        "# is x greater than 5? is y greater than 30?\n",
        "print( x > 5 or y > 30)\n",
        "# is x less than 5? is y less than 30?\n",
        "print( x < 5 or y > 30)"
      ],
      "metadata": {
        "colab": {
          "base_uri": "https://localhost:8080/"
        },
        "id": "VzlvKyyWuAZG",
        "outputId": "3cd3d6ed-752f-42f5-b783-47514a58530d"
      },
      "execution_count": null,
      "outputs": [
        {
          "output_type": "stream",
          "name": "stdout",
          "text": [
            "True\n",
            "False\n"
          ]
        }
      ]
    },
    {
      "cell_type": "markdown",
      "source": [
        "### NOT"
      ],
      "metadata": {
        "id": "M7CivGLbuAUu"
      }
    },
    {
      "cell_type": "code",
      "source": [
        "print(not(x > 5))\n",
        "print(not(y > 30))"
      ],
      "metadata": {
        "colab": {
          "base_uri": "https://localhost:8080/"
        },
        "id": "Zw4jWBswuASO",
        "outputId": "d0650a79-06cd-483b-88d0-2edb7acb4ee5"
      },
      "execution_count": null,
      "outputs": [
        {
          "output_type": "stream",
          "name": "stdout",
          "text": [
            "False\n",
            "True\n"
          ]
        }
      ]
    },
    {
      "cell_type": "code",
      "source": [
        "result = 5.3 * 9.58 >= 3.23 * 15.3\n",
        "print (f\"The expression is {result}\")"
      ],
      "metadata": {
        "colab": {
          "base_uri": "https://localhost:8080/"
        },
        "id": "urZQ8vaWuAQD",
        "outputId": "474c9e8d-e540-4cb9-da6d-0c4ac653672c"
      },
      "execution_count": null,
      "outputs": [
        {
          "output_type": "stream",
          "name": "stdout",
          "text": [
            "The expression is True\n"
          ]
        }
      ]
    },
    {
      "cell_type": "code",
      "source": [
        "result = ((True and False) or (True or False))\n",
        "print(f'The expression is {result}')"
      ],
      "metadata": {
        "colab": {
          "base_uri": "https://localhost:8080/"
        },
        "id": "KsCi6lnFuAIN",
        "outputId": "f2fc72f2-4ffe-4cef-e2c0-ae086be81df7"
      },
      "execution_count": null,
      "outputs": [
        {
          "output_type": "stream",
          "name": "stdout",
          "text": [
            "The expression is True!\n"
          ]
        }
      ]
    },
    {
      "cell_type": "markdown",
      "source": [
        "### Identity Operator"
      ],
      "metadata": {
        "id": "TZDNllcZyKlB"
      }
    },
    {
      "cell_type": "code",
      "source": [
        "print('cat' is 'cat')\n",
        "# does not like is , suggests ==\n",
        "# !!!!!!!! HOWEVER, RESULT STILL RETURNED IN FIRST LINE !!!!!!!"
      ],
      "metadata": {
        "colab": {
          "base_uri": "https://localhost:8080/"
        },
        "id": "M1Fvn0fXyKg9",
        "outputId": "6b3b0524-8c33-4850-f1cd-cf7b915b475e"
      },
      "execution_count": null,
      "outputs": [
        {
          "output_type": "stream",
          "name": "stdout",
          "text": [
            "True\n",
            "True\n"
          ]
        },
        {
          "output_type": "stream",
          "name": "stderr",
          "text": [
            "<>:1: SyntaxWarning: \"is\" with a literal. Did you mean \"==\"?\n",
            "<>:1: SyntaxWarning: \"is\" with a literal. Did you mean \"==\"?\n",
            "<ipython-input-9-1dcfbfa9bd99>:1: SyntaxWarning: \"is\" with a literal. Did you mean \"==\"?\n",
            "  print('cat' is 'cat')\n"
          ]
        }
      ]
    },
    {
      "cell_type": "code",
      "source": [
        "print('cat' == 'cat')"
      ],
      "metadata": {
        "colab": {
          "base_uri": "https://localhost:8080/"
        },
        "id": "I85LshLpyKcR",
        "outputId": "7fc73356-a6e1-4840-d811-31394bd3e905"
      },
      "execution_count": null,
      "outputs": [
        {
          "output_type": "stream",
          "name": "stdout",
          "text": [
            "True\n"
          ]
        }
      ]
    },
    {
      "cell_type": "code",
      "source": [
        "print('cat' is 'dog')"
      ],
      "metadata": {
        "colab": {
          "base_uri": "https://localhost:8080/"
        },
        "id": "zTYmHn8XyKZw",
        "outputId": "e1920e7d-e619-4c1f-b06f-a9fd34515f5a"
      },
      "execution_count": null,
      "outputs": [
        {
          "output_type": "stream",
          "name": "stdout",
          "text": [
            "False\n"
          ]
        },
        {
          "output_type": "stream",
          "name": "stderr",
          "text": [
            "<>:1: SyntaxWarning: \"is\" with a literal. Did you mean \"==\"?\n",
            "<>:1: SyntaxWarning: \"is\" with a literal. Did you mean \"==\"?\n",
            "<ipython-input-11-5c1f69c5251d>:1: SyntaxWarning: \"is\" with a literal. Did you mean \"==\"?\n",
            "  print('cat' is 'dog')\n"
          ]
        }
      ]
    },
    {
      "cell_type": "code",
      "source": [
        "print('cat' is not 'cat')"
      ],
      "metadata": {
        "colab": {
          "base_uri": "https://localhost:8080/"
        },
        "id": "JyHH3l4vyKXk",
        "outputId": "4e6cbcb6-ca29-4a01-83ec-9138baaff436"
      },
      "execution_count": null,
      "outputs": [
        {
          "output_type": "stream",
          "name": "stdout",
          "text": [
            "False\n"
          ]
        },
        {
          "output_type": "stream",
          "name": "stderr",
          "text": [
            "<>:1: SyntaxWarning: \"is not\" with a literal. Did you mean \"!=\"?\n",
            "<>:1: SyntaxWarning: \"is not\" with a literal. Did you mean \"!=\"?\n",
            "<ipython-input-12-f7210912f0de>:1: SyntaxWarning: \"is not\" with a literal. Did you mean \"!=\"?\n",
            "  print('cat' is not 'cat')\n"
          ]
        }
      ]
    },
    {
      "cell_type": "code",
      "source": [
        "print('cat' is not 'dog')"
      ],
      "metadata": {
        "colab": {
          "base_uri": "https://localhost:8080/"
        },
        "id": "COGFL_WDyKVJ",
        "outputId": "e25b3180-7974-413c-8c5b-2c3d1cfa2b11"
      },
      "execution_count": null,
      "outputs": [
        {
          "output_type": "stream",
          "name": "stdout",
          "text": [
            "True\n"
          ]
        },
        {
          "output_type": "stream",
          "name": "stderr",
          "text": [
            "<>:1: SyntaxWarning: \"is not\" with a literal. Did you mean \"!=\"?\n",
            "<>:1: SyntaxWarning: \"is not\" with a literal. Did you mean \"!=\"?\n",
            "<ipython-input-13-1c3310f1d5f5>:1: SyntaxWarning: \"is not\" with a literal. Did you mean \"!=\"?\n",
            "  print('cat' is not 'dog')\n"
          ]
        }
      ]
    },
    {
      "cell_type": "code",
      "source": [
        "fruit = 'banana'\n",
        "print('na' in fruit)\n",
        "print('na' not in fruit)"
      ],
      "metadata": {
        "colab": {
          "base_uri": "https://localhost:8080/"
        },
        "id": "7_Prq_wDyKSj",
        "outputId": "b5a9760e-c215-4014-aeff-28a513106ca5"
      },
      "execution_count": null,
      "outputs": [
        {
          "output_type": "stream",
          "name": "stdout",
          "text": [
            "True\n",
            "False\n"
          ]
        }
      ]
    },
    {
      "cell_type": "markdown",
      "source": [
        "# Collection Data Types"
      ],
      "metadata": {
        "id": "uvMAuzCxyKQY"
      }
    },
    {
      "cell_type": "markdown",
      "source": [
        "## Lists"
      ],
      "metadata": {
        "id": "pUmh_xB-zCUv"
      }
    },
    {
      "cell_type": "code",
      "source": [
        "numbers = [3, 7, 5, 4, 7, 5, 6, 3, 3, 3, 3]\n",
        "print(numbers)\n",
        "print(numbers[1])\n",
        "print(numbers[-1])"
      ],
      "metadata": {
        "colab": {
          "base_uri": "https://localhost:8080/"
        },
        "id": "z4D0Vg7BzCSs",
        "outputId": "a68e4d2f-2ed3-4f27-d728-c5c3541e752a"
      },
      "execution_count": null,
      "outputs": [
        {
          "output_type": "stream",
          "name": "stdout",
          "text": [
            "[3, 7, 5, 4, 7, 5, 6, 3, 3, 3, 3]\n",
            "7\n",
            "3\n"
          ]
        }
      ]
    },
    {
      "cell_type": "code",
      "source": [
        "names = ['Alice', 'Bob', 'Carol', 'Dan']\n",
        "print(names[0])\n",
        "print(names[2])"
      ],
      "metadata": {
        "colab": {
          "base_uri": "https://localhost:8080/"
        },
        "id": "Pty6Qb2rzCQX",
        "outputId": "ff8ad462-f1d6-411f-fcb0-fea502c4fee6"
      },
      "execution_count": null,
      "outputs": [
        {
          "output_type": "stream",
          "name": "stdout",
          "text": [
            "Alice\n",
            "Carol\n"
          ]
        }
      ]
    },
    {
      "cell_type": "code",
      "source": [
        "print(names[0][1])"
      ],
      "metadata": {
        "colab": {
          "base_uri": "https://localhost:8080/"
        },
        "id": "DGMho3vtzCNh",
        "outputId": "85b47efb-0ff9-42f7-dbdf-2c3479216b7d"
      },
      "execution_count": null,
      "outputs": [
        {
          "output_type": "stream",
          "name": "stdout",
          "text": [
            "l\n"
          ]
        }
      ]
    },
    {
      "cell_type": "code",
      "source": [
        "print(names[-1])\n",
        "print(names[-3])"
      ],
      "metadata": {
        "colab": {
          "base_uri": "https://localhost:8080/"
        },
        "id": "44emSqkyzCJi",
        "outputId": "958f3af4-1378-4e2d-a49e-6825bff096f1"
      },
      "execution_count": null,
      "outputs": [
        {
          "output_type": "stream",
          "name": "stdout",
          "text": [
            "Dan\n",
            "Bob\n"
          ]
        }
      ]
    },
    {
      "cell_type": "code",
      "source": [
        "print(names[1:3])\n",
        "print(names[0:4])"
      ],
      "metadata": {
        "colab": {
          "base_uri": "https://localhost:8080/"
        },
        "id": "ncgQFbL0zCFs",
        "outputId": "e6d80e7a-0035-4c9e-b589-ba7e43b4b3f7"
      },
      "execution_count": null,
      "outputs": [
        {
          "output_type": "stream",
          "name": "stdout",
          "text": [
            "['Bob', 'Carol']\n",
            "['Alice', 'Bob', 'Carol', 'Dan']\n"
          ]
        }
      ]
    },
    {
      "cell_type": "code",
      "source": [
        "print(names[0:-1]) # NOT INCLUSIVE"
      ],
      "metadata": {
        "colab": {
          "base_uri": "https://localhost:8080/"
        },
        "id": "Z4bk9f_6zCC3",
        "outputId": "c42793cc-a710-4b5e-8e2a-709364e0be8e"
      },
      "execution_count": null,
      "outputs": [
        {
          "output_type": "stream",
          "name": "stdout",
          "text": [
            "['Alice', 'Bob', 'Carol']\n"
          ]
        }
      ]
    },
    {
      "cell_type": "code",
      "source": [
        "print(names[0:]) # print to end"
      ],
      "metadata": {
        "colab": {
          "base_uri": "https://localhost:8080/"
        },
        "id": "KXtcln4lzCAD",
        "outputId": "1554e81d-2e91-4559-83f4-3470ccef638f"
      },
      "execution_count": null,
      "outputs": [
        {
          "output_type": "stream",
          "name": "stdout",
          "text": [
            "['Alice', 'Bob', 'Carol', 'Dan']\n"
          ]
        }
      ]
    },
    {
      "cell_type": "code",
      "source": [
        "# STRINGS ARE IMMUTABLE\n"
      ],
      "metadata": {
        "id": "T_jdOFbJzB6v"
      },
      "execution_count": null,
      "outputs": []
    },
    {
      "cell_type": "code",
      "source": [
        "names[1] = 'Bobby'\n",
        "print(names)"
      ],
      "metadata": {
        "colab": {
          "base_uri": "https://localhost:8080/"
        },
        "id": "j5myzIxTzBzj",
        "outputId": "9ccce06a-4f3b-4307-b429-543e1fa8fe52"
      },
      "execution_count": null,
      "outputs": [
        {
          "output_type": "stream",
          "name": "stdout",
          "text": [
            "['Alice', 'Bobby', 'Carol', 'Dan']\n"
          ]
        }
      ]
    },
    {
      "cell_type": "code",
      "source": [
        "# Group task: ask user for 10 items and put it into a list\n",
        "\n",
        "items = []\n",
        "\n",
        "for i in range(10):\n",
        "  items.append(input('{}) list an item: '.format(i+1)))\n",
        "print(items)"
      ],
      "metadata": {
        "colab": {
          "base_uri": "https://localhost:8080/"
        },
        "id": "h1PrI0jQzBxX",
        "outputId": "1aeb3e7d-2c78-4113-a842-d8099607f1b8"
      },
      "execution_count": null,
      "outputs": [
        {
          "output_type": "stream",
          "name": "stdout",
          "text": [
            "1) list an item: 1\n",
            "2) list an item: 2\n",
            "3) list an item: 3\n",
            "4) list an item: 4\n",
            "5) list an item: 5\n",
            "6) list an item: 6\n",
            "7) list an item: 7\n",
            "8) list an item: 8\n",
            "9) list an item: 9\n",
            "10) list an item: 20\n",
            "['1', '2', '3', '4', '5', '6', '7', '8', '9', '20']\n"
          ]
        }
      ]
    },
    {
      "cell_type": "code",
      "source": [
        "# Group task: ask user for 10 items and put it into a list\n",
        "\n",
        "items1 = input('Enter 10 items separated by space')\n",
        "print(items1.split())"
      ],
      "metadata": {
        "id": "WQn33zEczBvK"
      },
      "execution_count": null,
      "outputs": []
    },
    {
      "cell_type": "code",
      "source": [],
      "metadata": {
        "id": "bgqBogEpzBsW"
      },
      "execution_count": null,
      "outputs": []
    },
    {
      "cell_type": "code",
      "source": [],
      "metadata": {
        "id": "_CqXVvRmzBpj"
      },
      "execution_count": null,
      "outputs": []
    },
    {
      "cell_type": "code",
      "source": [],
      "metadata": {
        "id": "IulNw5GZyKN3"
      },
      "execution_count": null,
      "outputs": []
    },
    {
      "cell_type": "code",
      "source": [],
      "metadata": {
        "id": "NcUVsFPVyKLY"
      },
      "execution_count": null,
      "outputs": []
    },
    {
      "cell_type": "code",
      "source": [],
      "metadata": {
        "id": "GrI-mLAdyKI3"
      },
      "execution_count": null,
      "outputs": []
    },
    {
      "cell_type": "code",
      "source": [],
      "metadata": {
        "id": "WoQD2IMmyKGs"
      },
      "execution_count": null,
      "outputs": []
    },
    {
      "cell_type": "code",
      "source": [],
      "metadata": {
        "id": "6HmiZRhQyKEL"
      },
      "execution_count": null,
      "outputs": []
    },
    {
      "cell_type": "code",
      "source": [],
      "metadata": {
        "id": "PUuWhRaSyKBZ"
      },
      "execution_count": null,
      "outputs": []
    },
    {
      "cell_type": "code",
      "source": [],
      "metadata": {
        "id": "Rmnl8tizyJy_"
      },
      "execution_count": null,
      "outputs": []
    }
  ]
}