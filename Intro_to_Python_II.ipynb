{
  "nbformat": 4,
  "nbformat_minor": 0,
  "metadata": {
    "colab": {
      "provenance": [],
      "authorship_tag": "ABX9TyOOPaMnBbblxpzhOi5/dNfg",
      "include_colab_link": true
    },
    "kernelspec": {
      "name": "python3",
      "display_name": "Python 3"
    },
    "language_info": {
      "name": "python"
    }
  },
  "cells": [
    {
      "cell_type": "markdown",
      "metadata": {
        "id": "view-in-github",
        "colab_type": "text"
      },
      "source": [
        "<a href=\"https://colab.research.google.com/github/hazedCadet/TTP-summer-23/blob/main/Intro_to_Python_II.ipynb\" target=\"_parent\"><img src=\"https://colab.research.google.com/assets/colab-badge.svg\" alt=\"Open In Colab\"/></a>"
      ]
    },
    {
      "cell_type": "markdown",
      "source": [
        "# Operators"
      ],
      "metadata": {
        "id": "Bwkt1Hd-t2Io"
      }
    },
    {
      "cell_type": "markdown",
      "source": [
        "## Boolean Operator"
      ],
      "metadata": {
        "id": "_3X2YL31uAB9"
      }
    },
    {
      "cell_type": "code",
      "source": [
        "is_day = True\n",
        "is_night = False\n",
        "print(is_day)"
      ],
      "metadata": {
        "colab": {
          "base_uri": "https://localhost:8080/"
        },
        "id": "xUpxqnzluEp6",
        "outputId": "e8ce1055-3c84-4fdd-d0e1-d95afacfe153"
      },
      "execution_count": null,
      "outputs": [
        {
          "output_type": "stream",
          "name": "stdout",
          "text": [
            "True\n"
          ]
        }
      ]
    },
    {
      "cell_type": "markdown",
      "source": [
        "## Comparison Operators"
      ],
      "metadata": {
        "id": "JWX-FJvIuApD"
      }
    },
    {
      "cell_type": "code",
      "source": [
        "x, y = 9, 25\n",
        "print(x == y) # does x equal y?\n",
        "print(x != y) # is x not equal y?\n",
        "print(x < y) # is x smaller y?\n",
        "print(x > y) # is x bigger y?\n",
        "print(x <= y) # is x less than or equal to y?\n",
        "print(x >= y) # is x bigger than or equal to y?"
      ],
      "metadata": {
        "colab": {
          "base_uri": "https://localhost:8080/"
        },
        "id": "e8cntXdcuAl7",
        "outputId": "982720cc-16f2-4cb0-a073-bb630919be5e"
      },
      "execution_count": null,
      "outputs": [
        {
          "output_type": "stream",
          "name": "stdout",
          "text": [
            "False\n",
            "True\n",
            "True\n",
            "False\n",
            "True\n",
            "False\n"
          ]
        }
      ]
    },
    {
      "cell_type": "markdown",
      "source": [
        "## Logical Operators"
      ],
      "metadata": {
        "id": "bS_TotcMuAjH"
      }
    },
    {
      "cell_type": "markdown",
      "source": [
        "### AND"
      ],
      "metadata": {
        "id": "vkMi47O8xnre"
      }
    },
    {
      "cell_type": "code",
      "source": [
        "# is x greater than 5 AND ALSO y is less than 30?\n",
        "print(x > 5 and y < 30)"
      ],
      "metadata": {
        "colab": {
          "base_uri": "https://localhost:8080/"
        },
        "id": "t12vOcWZuAgn",
        "outputId": "8265d6e5-c146-4b76-a01a-495b100566e4"
      },
      "execution_count": null,
      "outputs": [
        {
          "output_type": "stream",
          "name": "stdout",
          "text": [
            "True\n"
          ]
        }
      ]
    },
    {
      "cell_type": "code",
      "source": [
        "# is x greater than 10 AND ALSO y less than 30?\n",
        "print(x > 10 and y < 30)"
      ],
      "metadata": {
        "colab": {
          "base_uri": "https://localhost:8080/"
        },
        "id": "2VXOqOwYuAeH",
        "outputId": "ca6fdbb5-b917-401e-c9e6-fc1daf11ff3b"
      },
      "execution_count": null,
      "outputs": [
        {
          "output_type": "stream",
          "name": "stdout",
          "text": [
            "False\n"
          ]
        }
      ]
    },
    {
      "cell_type": "markdown",
      "source": [
        "### OR"
      ],
      "metadata": {
        "id": "FHKnW4NluAb6"
      }
    },
    {
      "cell_type": "code",
      "source": [
        "# is x greater than 5? is y greater than 30?\n",
        "print( x > 5 or y > 30)\n",
        "# is x less than 5? is y less than 30?\n",
        "print( x < 5 or y > 30)"
      ],
      "metadata": {
        "colab": {
          "base_uri": "https://localhost:8080/"
        },
        "id": "VzlvKyyWuAZG",
        "outputId": "99f84672-735d-42bd-8402-6561393888c8"
      },
      "execution_count": null,
      "outputs": [
        {
          "output_type": "stream",
          "name": "stdout",
          "text": [
            "True\n",
            "False\n"
          ]
        }
      ]
    },
    {
      "cell_type": "markdown",
      "source": [
        "### NOT"
      ],
      "metadata": {
        "id": "M7CivGLbuAUu"
      }
    },
    {
      "cell_type": "code",
      "source": [
        "print(not(x > 5))\n",
        "print(not(y > 30))"
      ],
      "metadata": {
        "colab": {
          "base_uri": "https://localhost:8080/"
        },
        "id": "Zw4jWBswuASO",
        "outputId": "2d05eee3-19a3-44b2-df1d-69612a8cdb46"
      },
      "execution_count": null,
      "outputs": [
        {
          "output_type": "stream",
          "name": "stdout",
          "text": [
            "False\n",
            "True\n"
          ]
        }
      ]
    },
    {
      "cell_type": "code",
      "source": [
        "result = 5.3 * 9.58 >= 3.23 * 15.3\n",
        "print (f\"The expression is {result}\")"
      ],
      "metadata": {
        "colab": {
          "base_uri": "https://localhost:8080/"
        },
        "id": "urZQ8vaWuAQD",
        "outputId": "cff0079d-98d3-465f-9e69-b054a7765e2f"
      },
      "execution_count": null,
      "outputs": [
        {
          "output_type": "stream",
          "name": "stdout",
          "text": [
            "The expression is True\n"
          ]
        }
      ]
    },
    {
      "cell_type": "code",
      "source": [
        "result = ((True and False) or (True or False))\n",
        "print(f'The expression is {result}')"
      ],
      "metadata": {
        "colab": {
          "base_uri": "https://localhost:8080/"
        },
        "id": "KsCi6lnFuAIN",
        "outputId": "3615dffa-b9f3-479b-fae4-c45b4eff6d7f"
      },
      "execution_count": null,
      "outputs": [
        {
          "output_type": "stream",
          "name": "stdout",
          "text": [
            "The expression is True\n"
          ]
        }
      ]
    },
    {
      "cell_type": "markdown",
      "source": [
        "## Identity Operator"
      ],
      "metadata": {
        "id": "TZDNllcZyKlB"
      }
    },
    {
      "cell_type": "code",
      "source": [
        "print('cat' is 'cat')\n",
        "# does not like is , suggests ==\n",
        "# !!!!!!!! HOWEVER, RESULT STILL RETURNED IN FIRST LINE !!!!!!!"
      ],
      "metadata": {
        "colab": {
          "base_uri": "https://localhost:8080/"
        },
        "id": "M1Fvn0fXyKg9",
        "outputId": "7b0c8016-4070-4b3e-9f3b-7eb054fa2f5d"
      },
      "execution_count": null,
      "outputs": [
        {
          "output_type": "stream",
          "name": "stdout",
          "text": [
            "True\n"
          ]
        },
        {
          "output_type": "stream",
          "name": "stderr",
          "text": [
            "<>:1: SyntaxWarning: \"is\" with a literal. Did you mean \"==\"?\n",
            "<>:1: SyntaxWarning: \"is\" with a literal. Did you mean \"==\"?\n",
            "<ipython-input-9-61bebcc1a606>:1: SyntaxWarning: \"is\" with a literal. Did you mean \"==\"?\n",
            "  print('cat' is 'cat')\n"
          ]
        }
      ]
    },
    {
      "cell_type": "code",
      "source": [
        "print('cat' == 'cat')"
      ],
      "metadata": {
        "colab": {
          "base_uri": "https://localhost:8080/"
        },
        "id": "I85LshLpyKcR",
        "outputId": "d1332122-0ea1-49c5-f19e-23a2f1b8bf80"
      },
      "execution_count": null,
      "outputs": [
        {
          "output_type": "stream",
          "name": "stdout",
          "text": [
            "True\n"
          ]
        }
      ]
    },
    {
      "cell_type": "code",
      "source": [
        "print('cat' is 'dog')"
      ],
      "metadata": {
        "colab": {
          "base_uri": "https://localhost:8080/"
        },
        "id": "zTYmHn8XyKZw",
        "outputId": "f45d70ca-15c3-4261-98ea-9c493568fabd"
      },
      "execution_count": null,
      "outputs": [
        {
          "output_type": "stream",
          "name": "stdout",
          "text": [
            "False\n"
          ]
        },
        {
          "output_type": "stream",
          "name": "stderr",
          "text": [
            "<>:1: SyntaxWarning: \"is\" with a literal. Did you mean \"==\"?\n",
            "<>:1: SyntaxWarning: \"is\" with a literal. Did you mean \"==\"?\n",
            "<ipython-input-11-5c1f69c5251d>:1: SyntaxWarning: \"is\" with a literal. Did you mean \"==\"?\n",
            "  print('cat' is 'dog')\n"
          ]
        }
      ]
    },
    {
      "cell_type": "code",
      "source": [
        "print('cat' is not 'cat')"
      ],
      "metadata": {
        "colab": {
          "base_uri": "https://localhost:8080/"
        },
        "id": "JyHH3l4vyKXk",
        "outputId": "8db8c80d-c1e9-4005-a325-abe505dbc7d4"
      },
      "execution_count": null,
      "outputs": [
        {
          "output_type": "stream",
          "name": "stdout",
          "text": [
            "False\n"
          ]
        },
        {
          "output_type": "stream",
          "name": "stderr",
          "text": [
            "<>:1: SyntaxWarning: \"is not\" with a literal. Did you mean \"!=\"?\n",
            "<>:1: SyntaxWarning: \"is not\" with a literal. Did you mean \"!=\"?\n",
            "<ipython-input-12-f7210912f0de>:1: SyntaxWarning: \"is not\" with a literal. Did you mean \"!=\"?\n",
            "  print('cat' is not 'cat')\n"
          ]
        }
      ]
    },
    {
      "cell_type": "code",
      "source": [
        "print('cat' is not 'dog')"
      ],
      "metadata": {
        "colab": {
          "base_uri": "https://localhost:8080/"
        },
        "id": "COGFL_WDyKVJ",
        "outputId": "51382073-7511-4eb1-b9e7-552ce883b0f2"
      },
      "execution_count": null,
      "outputs": [
        {
          "output_type": "stream",
          "name": "stdout",
          "text": [
            "True\n"
          ]
        },
        {
          "output_type": "stream",
          "name": "stderr",
          "text": [
            "<>:1: SyntaxWarning: \"is not\" with a literal. Did you mean \"!=\"?\n",
            "<>:1: SyntaxWarning: \"is not\" with a literal. Did you mean \"!=\"?\n",
            "<ipython-input-13-1c3310f1d5f5>:1: SyntaxWarning: \"is not\" with a literal. Did you mean \"!=\"?\n",
            "  print('cat' is not 'dog')\n"
          ]
        }
      ]
    },
    {
      "cell_type": "code",
      "source": [
        "fruit = 'banana'\n",
        "print('na' in fruit)\n",
        "print('na' not in fruit)"
      ],
      "metadata": {
        "colab": {
          "base_uri": "https://localhost:8080/"
        },
        "id": "7_Prq_wDyKSj",
        "outputId": "11ab0a25-8de8-4e84-e99d-e7e254015a12"
      },
      "execution_count": null,
      "outputs": [
        {
          "output_type": "stream",
          "name": "stdout",
          "text": [
            "True\n",
            "False\n"
          ]
        }
      ]
    },
    {
      "cell_type": "markdown",
      "source": [
        "# Collection Data Types"
      ],
      "metadata": {
        "id": "uvMAuzCxyKQY"
      }
    },
    {
      "cell_type": "markdown",
      "source": [
        "## Lists"
      ],
      "metadata": {
        "id": "pUmh_xB-zCUv"
      }
    },
    {
      "cell_type": "code",
      "source": [
        "# arrays\n",
        "numbers = [3, 7, 5, 4, 7, 5, 6, 3, 3, 3, 3]\n",
        "print(numbers)\n",
        "print(numbers[1])\n",
        "print(numbers[-1])"
      ],
      "metadata": {
        "colab": {
          "base_uri": "https://localhost:8080/"
        },
        "id": "z4D0Vg7BzCSs",
        "outputId": "e1c67dc1-b6eb-40c3-faaa-8011323a836d"
      },
      "execution_count": null,
      "outputs": [
        {
          "output_type": "stream",
          "name": "stdout",
          "text": [
            "[3, 7, 5, 4, 7, 5, 6, 3, 3, 3, 3]\n",
            "7\n",
            "3\n"
          ]
        }
      ]
    },
    {
      "cell_type": "code",
      "source": [
        "names = ['Alice', 'Bob', 'Carol', 'Dan']\n",
        "print(names[0])\n",
        "print(names[2])"
      ],
      "metadata": {
        "colab": {
          "base_uri": "https://localhost:8080/"
        },
        "id": "Pty6Qb2rzCQX",
        "outputId": "68f8ad20-dc9d-4e29-da84-10ea95121cd7"
      },
      "execution_count": null,
      "outputs": [
        {
          "output_type": "stream",
          "name": "stdout",
          "text": [
            "Alice\n",
            "Carol\n"
          ]
        }
      ]
    },
    {
      "cell_type": "code",
      "source": [
        "print(names[0][1])"
      ],
      "metadata": {
        "colab": {
          "base_uri": "https://localhost:8080/"
        },
        "id": "DGMho3vtzCNh",
        "outputId": "186e27f1-902b-408e-ec55-c738c794d3bc"
      },
      "execution_count": null,
      "outputs": [
        {
          "output_type": "stream",
          "name": "stdout",
          "text": [
            "l\n"
          ]
        }
      ]
    },
    {
      "cell_type": "code",
      "source": [
        "print(names[-1])\n",
        "print(names[-3])"
      ],
      "metadata": {
        "colab": {
          "base_uri": "https://localhost:8080/"
        },
        "id": "44emSqkyzCJi",
        "outputId": "63678016-df8f-4f64-8226-994550890410"
      },
      "execution_count": null,
      "outputs": [
        {
          "output_type": "stream",
          "name": "stdout",
          "text": [
            "Dan\n",
            "Bob\n"
          ]
        }
      ]
    },
    {
      "cell_type": "code",
      "source": [
        "print(names[1:3])\n",
        "print(names[0:4])"
      ],
      "metadata": {
        "colab": {
          "base_uri": "https://localhost:8080/"
        },
        "id": "ncgQFbL0zCFs",
        "outputId": "1e8db1f2-cd6c-411e-e2c7-acb12e1e1fc5"
      },
      "execution_count": null,
      "outputs": [
        {
          "output_type": "stream",
          "name": "stdout",
          "text": [
            "['Bob', 'Carol']\n",
            "['Alice', 'Bob', 'Carol', 'Dan']\n"
          ]
        }
      ]
    },
    {
      "cell_type": "code",
      "source": [
        "print(names[0:-1]) # NOT INCLUSIVE"
      ],
      "metadata": {
        "colab": {
          "base_uri": "https://localhost:8080/"
        },
        "id": "Z4bk9f_6zCC3",
        "outputId": "1346d712-37c3-45ec-ca5a-d15687d7bc74"
      },
      "execution_count": null,
      "outputs": [
        {
          "output_type": "stream",
          "name": "stdout",
          "text": [
            "['Alice', 'Bob', 'Carol']\n"
          ]
        }
      ]
    },
    {
      "cell_type": "code",
      "source": [
        "print(names[0:]) # print to end"
      ],
      "metadata": {
        "colab": {
          "base_uri": "https://localhost:8080/"
        },
        "id": "KXtcln4lzCAD",
        "outputId": "c0beab7a-a742-4fa6-cb7b-9dc7f0d81662"
      },
      "execution_count": null,
      "outputs": [
        {
          "output_type": "stream",
          "name": "stdout",
          "text": [
            "['Alice', 'Bob', 'Carol', 'Dan']\n"
          ]
        }
      ]
    },
    {
      "cell_type": "code",
      "source": [
        "# STRINGS ARE IMMUTABLE\n"
      ],
      "metadata": {
        "id": "T_jdOFbJzB6v"
      },
      "execution_count": null,
      "outputs": []
    },
    {
      "cell_type": "code",
      "source": [
        "names[1] = 'Bobby'\n",
        "print(names)"
      ],
      "metadata": {
        "colab": {
          "base_uri": "https://localhost:8080/"
        },
        "id": "j5myzIxTzBzj",
        "outputId": "e10d6d06-ce1d-4181-d832-1afebf5216c1"
      },
      "execution_count": null,
      "outputs": [
        {
          "output_type": "stream",
          "name": "stdout",
          "text": [
            "['Alice', 'Bobby', 'Carol', 'Dan']\n"
          ]
        }
      ]
    },
    {
      "cell_type": "code",
      "source": [
        "# Group task: ask user for 10 items and put it into a list\n",
        "\n",
        "items = []\n",
        "\n",
        "for i in range(10):\n",
        "  items.append(input('{}) list an item: '.format(i+1)))\n",
        "print(items)"
      ],
      "metadata": {
        "colab": {
          "base_uri": "https://localhost:8080/"
        },
        "id": "h1PrI0jQzBxX",
        "outputId": "b76dcd1d-0ccf-4269-d3d7-53038dbaed13"
      },
      "execution_count": null,
      "outputs": [
        {
          "output_type": "stream",
          "name": "stdout",
          "text": [
            "1) list an item: 1\n",
            "2) list an item: 1\n",
            "3) list an item: 1\n",
            "4) list an item: 1\n",
            "5) list an item: 1\n",
            "6) list an item: 1\n",
            "7) list an item: 1\n",
            "8) list an item: 1\n",
            "9) list an item: 1\n",
            "10) list an item: 1\n",
            "['1', '1', '1', '1', '1', '1', '1', '1', '1', '1']\n"
          ]
        }
      ]
    },
    {
      "cell_type": "code",
      "source": [
        "# Group task: ask user for 10 items and put it into a list\n",
        "\n",
        "items1 = input('Enter 10 items separated by space:\\n')\n",
        "print(items1.split())"
      ],
      "metadata": {
        "id": "WQn33zEczBvK",
        "colab": {
          "base_uri": "https://localhost:8080/"
        },
        "outputId": "afce0f47-2bb9-4b08-ce12-053e1d6f83b9"
      },
      "execution_count": null,
      "outputs": [
        {
          "output_type": "stream",
          "name": "stdout",
          "text": [
            "Enter 10 items separated by space1\n",
            "['1']\n"
          ]
        }
      ]
    },
    {
      "cell_type": "markdown",
      "source": [
        "#### Nested Lists"
      ],
      "metadata": {
        "id": "bgqBogEpzBsW"
      }
    },
    {
      "cell_type": "code",
      "source": [
        "# list of lists\n",
        "matrix = [[1,2,3,], [4,5,6], [7,8,9]]\n",
        "# print entire list (of lists)\n",
        "print(matrix)\n",
        "# print 2nd element of 1st array\n",
        "print(matrix[1][2])"
      ],
      "metadata": {
        "id": "_CqXVvRmzBpj",
        "colab": {
          "base_uri": "https://localhost:8080/"
        },
        "outputId": "2dc454e3-5ff4-4704-ad6b-a15cc22cf423"
      },
      "execution_count": 2,
      "outputs": [
        {
          "output_type": "stream",
          "name": "stdout",
          "text": [
            "[[1, 2, 3], [4, 5, 6], [7, 8, 9]]\n",
            "6\n"
          ]
        }
      ]
    },
    {
      "cell_type": "code",
      "source": [
        "print(matrix[2][0])"
      ],
      "metadata": {
        "colab": {
          "base_uri": "https://localhost:8080/"
        },
        "id": "trOkVhLxkQfm",
        "outputId": "e6ed01c0-bb7a-4c26-c241-3617ec03a802"
      },
      "execution_count": 3,
      "outputs": [
        {
          "output_type": "stream",
          "name": "stdout",
          "text": [
            "7\n"
          ]
        }
      ]
    },
    {
      "cell_type": "code",
      "source": [
        "# matriception\n",
        "# matrix of matrices containing matrices\n",
        "matrix = [[[1,2], [3,4,6,5,6]], [[5,6], [7,8]]]\n",
        "print(matrix)\n",
        "print(matrix[0][1][0])"
      ],
      "metadata": {
        "id": "IulNw5GZyKN3",
        "colab": {
          "base_uri": "https://localhost:8080/"
        },
        "outputId": "c744d70a-f7d0-41b6-b275-289d710edcab"
      },
      "execution_count": null,
      "outputs": [
        {
          "output_type": "stream",
          "name": "stdout",
          "text": [
            "[[[1, 2], [3, 4, 6, 5, 6]], [[5, 6], [7, 8]]]\n",
            "3\n"
          ]
        }
      ]
    },
    {
      "cell_type": "code",
      "source": [
        "print(len(matrix))\n",
        "print(len(matrix[0][1]))"
      ],
      "metadata": {
        "id": "NcUVsFPVyKLY",
        "colab": {
          "base_uri": "https://localhost:8080/"
        },
        "outputId": "a8a9f103-7e05-42c7-e4d1-de2bb557269c"
      },
      "execution_count": null,
      "outputs": [
        {
          "output_type": "stream",
          "name": "stdout",
          "text": [
            "2\n",
            "5\n"
          ]
        }
      ]
    },
    {
      "cell_type": "markdown",
      "source": [
        "#### List Functions"
      ],
      "metadata": {
        "id": "GrI-mLAdyKI3"
      }
    },
    {
      "cell_type": "code",
      "source": [
        "pets = ['cat', 'dog', 'parrot']\n",
        "print(len(pets))\n",
        "print(pets)"
      ],
      "metadata": {
        "id": "WoQD2IMmyKGs",
        "colab": {
          "base_uri": "https://localhost:8080/"
        },
        "outputId": "4a54b9c9-164d-4678-f0b6-e9ffee558a00"
      },
      "execution_count": null,
      "outputs": [
        {
          "output_type": "stream",
          "name": "stdout",
          "text": [
            "3\n",
            "['cat', 'dog', 'parrot']\n"
          ]
        }
      ]
    },
    {
      "cell_type": "code",
      "source": [
        "dir(pets)\n",
        "pets.append('fish')\n",
        "print(pets)"
      ],
      "metadata": {
        "id": "6HmiZRhQyKEL",
        "colab": {
          "base_uri": "https://localhost:8080/"
        },
        "outputId": "72fe5082-060a-46cc-a059-22ae4503be5e"
      },
      "execution_count": null,
      "outputs": [
        {
          "output_type": "stream",
          "name": "stdout",
          "text": [
            "['cat', 'dog', 'parrot', 'fish']\n"
          ]
        }
      ]
    },
    {
      "cell_type": "code",
      "source": [
        "pets.insert(1,'hamster')\n",
        "print(pets)"
      ],
      "metadata": {
        "id": "PUuWhRaSyKBZ",
        "colab": {
          "base_uri": "https://localhost:8080/"
        },
        "outputId": "14ea9f55-4ffa-4bad-bc98-2f84fd755c2c"
      },
      "execution_count": null,
      "outputs": [
        {
          "output_type": "stream",
          "name": "stdout",
          "text": [
            "['cat', 'hamster', 'dog', 'parrot', 'fish']\n"
          ]
        }
      ]
    },
    {
      "cell_type": "code",
      "source": [
        "print('cat' in pets)"
      ],
      "metadata": {
        "id": "Rmnl8tizyJy_",
        "colab": {
          "base_uri": "https://localhost:8080/"
        },
        "outputId": "25a633bf-c30a-4c05-ef37-eedecc25736f"
      },
      "execution_count": null,
      "outputs": [
        {
          "output_type": "stream",
          "name": "stdout",
          "text": [
            "True\n"
          ]
        }
      ]
    },
    {
      "cell_type": "code",
      "source": [
        "print('tiger' in pets)"
      ],
      "metadata": {
        "colab": {
          "base_uri": "https://localhost:8080/"
        },
        "id": "Q8XZGw9KT1uH",
        "outputId": "d0869d9d-14b3-4e72-a1a4-b3e5c1570ddb"
      },
      "execution_count": null,
      "outputs": [
        {
          "output_type": "stream",
          "name": "stdout",
          "text": [
            "False\n"
          ]
        }
      ]
    },
    {
      "cell_type": "code",
      "source": [
        "pets.remove('fish')\n",
        "print(pets)"
      ],
      "metadata": {
        "colab": {
          "base_uri": "https://localhost:8080/"
        },
        "id": "m774UZ6kT1qX",
        "outputId": "1a738c84-ac02-4288-d33a-d8513c7424f5"
      },
      "execution_count": null,
      "outputs": [
        {
          "output_type": "stream",
          "name": "stdout",
          "text": [
            "['cat', 'hamster', 'dog', 'parrot']\n"
          ]
        }
      ]
    },
    {
      "cell_type": "code",
      "source": [
        "pets.remove(pets[3])\n",
        "pets"
      ],
      "metadata": {
        "colab": {
          "base_uri": "https://localhost:8080/"
        },
        "id": "TyIggA1fT1h7",
        "outputId": "e95508b7-ba65-4a92-d3fd-982b2fa45d33"
      },
      "execution_count": null,
      "outputs": [
        {
          "output_type": "execute_result",
          "data": {
            "text/plain": [
              "['cat', 'hamster', 'dog']"
            ]
          },
          "metadata": {},
          "execution_count": 105
        }
      ]
    },
    {
      "cell_type": "code",
      "source": [
        "pets.pop()"
      ],
      "metadata": {
        "colab": {
          "base_uri": "https://localhost:8080/",
          "height": 36
        },
        "id": "Hn-iP41RT1fI",
        "outputId": "5f7d7d40-7a54-4c79-c963-a85aeeeb4b0f"
      },
      "execution_count": null,
      "outputs": [
        {
          "output_type": "execute_result",
          "data": {
            "text/plain": [
              "'dog'"
            ],
            "application/vnd.google.colaboratory.intrinsic+json": {
              "type": "string"
            }
          },
          "metadata": {},
          "execution_count": 42
        }
      ]
    },
    {
      "cell_type": "code",
      "source": [
        "pets.pop(0)"
      ],
      "metadata": {
        "colab": {
          "base_uri": "https://localhost:8080/",
          "height": 36
        },
        "id": "NqtawCTPT1c7",
        "outputId": "466661a2-ce17-4430-9417-09891d295d80"
      },
      "execution_count": null,
      "outputs": [
        {
          "output_type": "execute_result",
          "data": {
            "text/plain": [
              "'cat'"
            ],
            "application/vnd.google.colaboratory.intrinsic+json": {
              "type": "string"
            }
          },
          "metadata": {},
          "execution_count": 43
        }
      ]
    },
    {
      "cell_type": "code",
      "source": [
        "# REPOPULATE PETS"
      ],
      "metadata": {
        "id": "NLtUK1L9T1aF"
      },
      "execution_count": null,
      "outputs": []
    },
    {
      "cell_type": "code",
      "source": [
        "pets = ['cat', 'dog', 'parrot']"
      ],
      "metadata": {
        "id": "YWxKpXiQT1X6"
      },
      "execution_count": null,
      "outputs": []
    },
    {
      "cell_type": "code",
      "source": [
        "# del deletes specified list item, no return\n",
        "del pets[1]\n",
        "pets"
      ],
      "metadata": {
        "colab": {
          "base_uri": "https://localhost:8080/"
        },
        "id": "MlRFpTBxT1M-",
        "outputId": "1c115adc-819f-40f8-954c-882aa57d9e0b"
      },
      "execution_count": null,
      "outputs": [
        {
          "output_type": "execute_result",
          "data": {
            "text/plain": [
              "['cat', 'parrot']"
            ]
          },
          "metadata": {},
          "execution_count": 48
        }
      ]
    },
    {
      "cell_type": "code",
      "source": [
        "# .clear() deletes list elements\n",
        "pets.clear()\n",
        "pets"
      ],
      "metadata": {
        "colab": {
          "base_uri": "https://localhost:8080/"
        },
        "id": "caZh90moT1Ke",
        "outputId": "3c97b4ad-d240-42b5-8f56-8e0ee8c39404"
      },
      "execution_count": null,
      "outputs": [
        {
          "output_type": "execute_result",
          "data": {
            "text/plain": [
              "[]"
            ]
          },
          "metadata": {},
          "execution_count": 50
        }
      ]
    },
    {
      "cell_type": "code",
      "source": [
        "# object null\n",
        "pets = None"
      ],
      "metadata": {
        "id": "0Vp4E4JfT1Hp"
      },
      "execution_count": null,
      "outputs": []
    },
    {
      "cell_type": "markdown",
      "source": [
        "#### Iterators"
      ],
      "metadata": {
        "id": "mA2uADsmT1Fe"
      }
    },
    {
      "cell_type": "code",
      "source": [
        "my_cat = 'Fluffy'\n",
        "my_iterator = iter(my_cat)\n",
        "# step through object elements with `next'"
      ],
      "metadata": {
        "id": "zxiKb6GHT1Cq"
      },
      "execution_count": null,
      "outputs": []
    },
    {
      "cell_type": "code",
      "source": [
        "print(next(my_iterator))\n",
        "print(next(my_iterator))\n",
        "print(next(my_iterator))\n",
        "print(next(my_iterator))"
      ],
      "metadata": {
        "colab": {
          "base_uri": "https://localhost:8080/"
        },
        "id": "Y6HNf2wbT1Ae",
        "outputId": "768ac298-3251-4e09-b473-c90a71ed5850"
      },
      "execution_count": null,
      "outputs": [
        {
          "output_type": "stream",
          "name": "stdout",
          "text": [
            "F\n",
            "l\n",
            "u\n",
            "f\n"
          ]
        }
      ]
    },
    {
      "cell_type": "markdown",
      "source": [
        "## Tuples"
      ],
      "metadata": {
        "id": "QyPS6gaaT09W"
      }
    },
    {
      "cell_type": "code",
      "source": [
        "# immutable lists\n",
        "dinner = ('chicken', 'fires', 18)\n",
        "print(dinner)\n",
        "print(type(dinner))"
      ],
      "metadata": {
        "colab": {
          "base_uri": "https://localhost:8080/"
        },
        "id": "vgVp12d6T060",
        "outputId": "aa9d919d-8669-49d3-c574-bd964337cf60"
      },
      "execution_count": null,
      "outputs": [
        {
          "output_type": "stream",
          "name": "stdout",
          "text": [
            "('chicken', 'fires', 18)\n",
            "<class 'tuple'>\n"
          ]
        }
      ]
    },
    {
      "cell_type": "code",
      "source": [
        "breakfast = ('eggs',)\n",
        "print(breakfast)\n",
        "print(type(breakfast))"
      ],
      "metadata": {
        "colab": {
          "base_uri": "https://localhost:8080/"
        },
        "id": "dgAL2un_T03_",
        "outputId": "b4eeb73e-9cef-4b01-a438-5511689b258d"
      },
      "execution_count": null,
      "outputs": [
        {
          "output_type": "stream",
          "name": "stdout",
          "text": [
            "('eggs',)\n",
            "<class 'tuple'>\n"
          ]
        }
      ]
    },
    {
      "cell_type": "code",
      "source": [
        "lunch = ()\n",
        "print(lunch)\n",
        "print(type(lunch))"
      ],
      "metadata": {
        "id": "0iNEa9JFT01P",
        "colab": {
          "base_uri": "https://localhost:8080/"
        },
        "outputId": "58c6dfd8-c879-4f35-c2a0-0790b5cd8657"
      },
      "execution_count": 4,
      "outputs": [
        {
          "output_type": "stream",
          "name": "stdout",
          "text": [
            "()\n",
            "<class 'tuple'>\n"
          ]
        }
      ]
    },
    {
      "cell_type": "code",
      "source": [
        "# accessed by index\n",
        "my_desk = ('laptop', 'mouse', 'paper', 'pen')\n",
        "print(my_desk[1])\n",
        "print(my_desk[-1])"
      ],
      "metadata": {
        "colab": {
          "base_uri": "https://localhost:8080/"
        },
        "id": "z4V2-5D6T0uU",
        "outputId": "6d145898-a1bb-4f21-eaf0-5c2969fffd4b"
      },
      "execution_count": 6,
      "outputs": [
        {
          "output_type": "stream",
          "name": "stdout",
          "text": [
            "mouse\n",
            "pen\n"
          ]
        }
      ]
    },
    {
      "cell_type": "code",
      "source": [
        "new_desk = my_desk[1:3]\n",
        "print(new_desk)\n",
        "print(type(new_desk))"
      ],
      "metadata": {
        "colab": {
          "base_uri": "https://localhost:8080/"
        },
        "id": "D8iIoBCtXVbE",
        "outputId": "4515d41b-1ad4-4f28-e7ac-ee05dbd39198"
      },
      "execution_count": 7,
      "outputs": [
        {
          "output_type": "stream",
          "name": "stdout",
          "text": [
            "('mouse', 'paper')\n",
            "<class 'tuple'>\n"
          ]
        }
      ]
    },
    {
      "cell_type": "code",
      "source": [
        "dir(new_desk)\n",
        "print(my_desk[1:])"
      ],
      "metadata": {
        "colab": {
          "base_uri": "https://localhost:8080/"
        },
        "id": "blpy6nGBXVXp",
        "outputId": "835c6a6b-8fb1-4de4-fce7-caea28449d7b"
      },
      "execution_count": 8,
      "outputs": [
        {
          "output_type": "stream",
          "name": "stdout",
          "text": [
            "('mouse', 'paper', 'pen')\n"
          ]
        }
      ]
    },
    {
      "cell_type": "code",
      "source": [
        "my_desk = ('laptop', 'mouse', 'paper', 'pen')\n",
        "new_desk = my_desk[1:3]\n",
        "print(new_desk)\n",
        "print(type(new_desk))"
      ],
      "metadata": {
        "colab": {
          "base_uri": "https://localhost:8080/"
        },
        "id": "G-0EkMywmd3N",
        "outputId": "8f218d64-44df-4be9-c758-36160be60ed6"
      },
      "execution_count": 15,
      "outputs": [
        {
          "output_type": "stream",
          "name": "stdout",
          "text": [
            "('mouse', 'paper')\n",
            "<class 'tuple'>\n"
          ]
        }
      ]
    },
    {
      "cell_type": "code",
      "source": [
        "# how to add to tuple? add tuple\n",
        "new_desk = new_desk + ('pen', 'coffee')\n",
        "new_desk += ('worked?',)\n",
        "print(new_desk)\n",
        "print(type(new_desk))"
      ],
      "metadata": {
        "colab": {
          "base_uri": "https://localhost:8080/"
        },
        "id": "x5EQ0qP8nulx",
        "outputId": "6101955b-5eed-4fc4-a75d-780b578a0cc9"
      },
      "execution_count": 17,
      "outputs": [
        {
          "output_type": "stream",
          "name": "stdout",
          "text": [
            "('mouse', 'paper', 'pen', 'coffee', 'pen', 'coffee', 'worked?')\n",
            "<class 'tuple'>\n"
          ]
        }
      ]
    },
    {
      "cell_type": "code",
      "source": [
        "new_desk = my_desk + ('coffee',)\n",
        "print(new_desk)\n",
        "print(type(new_desk))"
      ],
      "metadata": {
        "colab": {
          "base_uri": "https://localhost:8080/"
        },
        "id": "C-vBxhUYmub_",
        "outputId": "34d343e3-ea0d-4f7a-c3ee-048f57a823fc"
      },
      "execution_count": 18,
      "outputs": [
        {
          "output_type": "stream",
          "name": "stdout",
          "text": [
            "('laptop', 'mouse', 'paper', 'pen', 'coffee')\n",
            "<class 'tuple'>\n"
          ]
        }
      ]
    },
    {
      "cell_type": "code",
      "source": [
        "my_desk_list = list(my_desk)\n",
        "my_desk_list.append('phone')\n",
        "new_desk = tuple(my_desk_list)\n",
        "print(new_desk)\n",
        "print(type(new_desk))"
      ],
      "metadata": {
        "colab": {
          "base_uri": "https://localhost:8080/"
        },
        "id": "bhjjuMsUm7Sb",
        "outputId": "8701eb63-0475-4c07-d990-311a4d4639ab"
      },
      "execution_count": 12,
      "outputs": [
        {
          "output_type": "stream",
          "name": "stdout",
          "text": [
            "('laptop', 'mouse', 'paper', 'pen', 'phone')\n",
            "<class 'tuple'>\n"
          ]
        }
      ]
    },
    {
      "cell_type": "code",
      "source": [
        "# ! APPEND DOES NOT WORK ON TUPLES\n",
        "new_desk.append('marker')"
      ],
      "metadata": {
        "colab": {
          "base_uri": "https://localhost:8080/",
          "height": 204
        },
        "id": "AGxExN21nKvB",
        "outputId": "577d296e-c7b4-4f1b-bcf3-9ea4580aad15"
      },
      "execution_count": 19,
      "outputs": [
        {
          "output_type": "error",
          "ename": "AttributeError",
          "evalue": "ignored",
          "traceback": [
            "\u001b[0;31m---------------------------------------------------------------------------\u001b[0m",
            "\u001b[0;31mAttributeError\u001b[0m                            Traceback (most recent call last)",
            "\u001b[0;32m<ipython-input-19-560ee14e97e7>\u001b[0m in \u001b[0;36m<cell line: 2>\u001b[0;34m()\u001b[0m\n\u001b[1;32m      1\u001b[0m \u001b[0;31m# ! APPEND DOES NOT WORK ON TUPLES\u001b[0m\u001b[0;34m\u001b[0m\u001b[0;34m\u001b[0m\u001b[0m\n\u001b[0;32m----> 2\u001b[0;31m \u001b[0mnew_desk\u001b[0m\u001b[0;34m.\u001b[0m\u001b[0mappend\u001b[0m\u001b[0;34m(\u001b[0m\u001b[0;34m'marker'\u001b[0m\u001b[0;34m)\u001b[0m\u001b[0;34m\u001b[0m\u001b[0;34m\u001b[0m\u001b[0m\n\u001b[0m",
            "\u001b[0;31mAttributeError\u001b[0m: 'tuple' object has no attribute 'append'"
          ]
        }
      ]
    },
    {
      "cell_type": "markdown",
      "source": [
        "#### Tupples Use Cases"
      ],
      "metadata": {
        "id": "2OR1ks33XVVK"
      }
    },
    {
      "cell_type": "code",
      "source": [
        "db = ('Oracle', 'SQL')"
      ],
      "metadata": {
        "id": "IU43N2qbXVS9"
      },
      "execution_count": null,
      "outputs": []
    },
    {
      "cell_type": "code",
      "source": [
        "new_db = db + ('username', 'password')\n",
        "print(new_db)\n",
        "print(type(new_db))"
      ],
      "metadata": {
        "colab": {
          "base_uri": "https://localhost:8080/"
        },
        "id": "k17S6Dm5XVQc",
        "outputId": "0bef620d-85ff-461a-87ad-46dda43cc288"
      },
      "execution_count": null,
      "outputs": [
        {
          "output_type": "stream",
          "name": "stdout",
          "text": [
            "('Oracle', 'SQL', 'username', 'password')\n",
            "<class 'tuple'>\n"
          ]
        }
      ]
    },
    {
      "cell_type": "code",
      "source": [
        "friend1 = ('Alex', 25, False)\n",
        "friend2 = ('Diane', 23, False)\n",
        "friend3 = ('Michael', 32, True)"
      ],
      "metadata": {
        "id": "BQeOBGr-XVN9"
      },
      "execution_count": null,
      "outputs": []
    },
    {
      "cell_type": "code",
      "source": [
        "print(friend1)\n",
        "print(friend2)\n",
        "print(friend3)"
      ],
      "metadata": {
        "colab": {
          "base_uri": "https://localhost:8080/"
        },
        "id": "MSBM4_LNXVLa",
        "outputId": "625099f3-ab20-40b0-b0b9-ead47b04d567"
      },
      "execution_count": null,
      "outputs": [
        {
          "output_type": "stream",
          "name": "stdout",
          "text": [
            "('Alex', 25, False)\n",
            "('Diane', 23, False)\n",
            "('Michael', 32, True)\n"
          ]
        }
      ]
    },
    {
      "cell_type": "code",
      "source": [
        "# tuple added to new tuple! only add from 1\n",
        "#  .: replace 0!\n",
        "friend2 = ('Erica',) + friend2[1:]\n",
        "print(friend2)\n",
        "print(type(friend2))"
      ],
      "metadata": {
        "colab": {
          "base_uri": "https://localhost:8080/"
        },
        "id": "HXPV_vTHXVIm",
        "outputId": "bdb8509f-17bf-4117-98b7-c73833bea222"
      },
      "execution_count": null,
      "outputs": [
        {
          "output_type": "stream",
          "name": "stdout",
          "text": [
            "('Erica', 23, False)\n",
            "<class 'tuple'>\n"
          ]
        }
      ]
    },
    {
      "cell_type": "markdown",
      "source": [
        "#### Tuples Functions"
      ],
      "metadata": {
        "id": "AwstV7m3pZoK"
      }
    },
    {
      "cell_type": "code",
      "source": [
        "my_desk = ('laptop', 'mouse', 'paper', 'pen')\n",
        "print(len(my_desk))"
      ],
      "metadata": {
        "id": "r5Sv-xWRXVD7",
        "colab": {
          "base_uri": "https://localhost:8080/"
        },
        "outputId": "f1165362-f965-4728-90f7-8472b6e959bc"
      },
      "execution_count": 20,
      "outputs": [
        {
          "output_type": "stream",
          "name": "stdout",
          "text": [
            "4\n"
          ]
        }
      ]
    },
    {
      "cell_type": "code",
      "source": [
        "# tuple.count(foo) - paramter: object\n",
        "# returns instances of that object\n",
        "digits = (3, 7, 5, 6, 3, 5, 7, 6, 3, 2, 8, 6, 3, 5)\n",
        "print(digits.count(3))\n",
        "print(digits.count(5))"
      ],
      "metadata": {
        "id": "Q70Cb_xAXVBH",
        "colab": {
          "base_uri": "https://localhost:8080/"
        },
        "outputId": "2dc26d32-a229-413c-9aba-524bfa52f88a"
      },
      "execution_count": 21,
      "outputs": [
        {
          "output_type": "stream",
          "name": "stdout",
          "text": [
            "4\n",
            "3\n"
          ]
        }
      ]
    },
    {
      "cell_type": "code",
      "source": [
        "# tuple.index(foo) - parameter: object\n",
        "# returns index of object\n",
        "print(digits.index(8))\n",
        "print(digits.index(7))"
      ],
      "metadata": {
        "id": "1r6mFOZyXU-R",
        "colab": {
          "base_uri": "https://localhost:8080/"
        },
        "outputId": "87bcf103-2a77-4914-89b0-c1f929f3d6f7"
      },
      "execution_count": 23,
      "outputs": [
        {
          "output_type": "stream",
          "name": "stdout",
          "text": [
            "10\n",
            "1\n"
          ]
        }
      ]
    },
    {
      "cell_type": "markdown",
      "source": [
        "## Sets"
      ],
      "metadata": {
        "id": "sGEtN73CbHOY"
      }
    },
    {
      "cell_type": "code",
      "source": [
        "# sets are lists with no duplicates\n",
        "days = {'Mon', 'Tue', 'Wed', 'Thu', 'Fri', 'Tue', 'Tue'}\n",
        "type(days)\n"
      ],
      "metadata": {
        "colab": {
          "base_uri": "https://localhost:8080/"
        },
        "id": "xODk2ABjbHLQ",
        "outputId": "1165c4d6-82e1-4370-af76-42b3386519ef"
      },
      "execution_count": 24,
      "outputs": [
        {
          "output_type": "execute_result",
          "data": {
            "text/plain": [
              "set"
            ]
          },
          "metadata": {},
          "execution_count": 24
        }
      ]
    },
    {
      "cell_type": "code",
      "source": [
        "print(days)"
      ],
      "metadata": {
        "colab": {
          "base_uri": "https://localhost:8080/"
        },
        "id": "xmT1wRXeq5Fr",
        "outputId": "8e4c07c3-8aab-455d-8ea4-7585dcfb5525"
      },
      "execution_count": 25,
      "outputs": [
        {
          "output_type": "stream",
          "name": "stdout",
          "text": [
            "{'Fri', 'Tue', 'Wed', 'Mon', 'Thu'}\n"
          ]
        }
      ]
    },
    {
      "cell_type": "code",
      "source": [
        "# tuples can have duplicates\n",
        "days = ('Mon', 'Tue', 'Wed', 'Thu', 'Fri', 'Tue', 'Tue')\n",
        "type(days)"
      ],
      "metadata": {
        "colab": {
          "base_uri": "https://localhost:8080/"
        },
        "id": "D6tGlsYQbHIw",
        "outputId": "e3d0d8ef-3541-4fff-ec3a-f8f1f4410c83"
      },
      "execution_count": 26,
      "outputs": [
        {
          "output_type": "execute_result",
          "data": {
            "text/plain": [
              "tuple"
            ]
          },
          "metadata": {},
          "execution_count": 26
        }
      ]
    },
    {
      "cell_type": "code",
      "source": [
        "print(days)"
      ],
      "metadata": {
        "colab": {
          "base_uri": "https://localhost:8080/"
        },
        "id": "brM3x85Fq9yN",
        "outputId": "4297f8bc-0cb5-49f4-9e9a-d7aa6190313a"
      },
      "execution_count": 27,
      "outputs": [
        {
          "output_type": "stream",
          "name": "stdout",
          "text": [
            "('Mon', 'Tue', 'Wed', 'Thu', 'Fri', 'Tue', 'Tue')\n"
          ]
        }
      ]
    },
    {
      "cell_type": "code",
      "source": [
        "days = set(days)"
      ],
      "metadata": {
        "id": "rWeb8P29bHGk"
      },
      "execution_count": null,
      "outputs": []
    },
    {
      "cell_type": "code",
      "source": [
        "dir(days)"
      ],
      "metadata": {
        "colab": {
          "base_uri": "https://localhost:8080/"
        },
        "id": "Yq2obSpMbHDt",
        "outputId": "663cac02-0133-4310-c422-c86285441d68"
      },
      "execution_count": null,
      "outputs": [
        {
          "output_type": "execute_result",
          "data": {
            "text/plain": [
              "['__and__',\n",
              " '__class__',\n",
              " '__class_getitem__',\n",
              " '__contains__',\n",
              " '__delattr__',\n",
              " '__dir__',\n",
              " '__doc__',\n",
              " '__eq__',\n",
              " '__format__',\n",
              " '__ge__',\n",
              " '__getattribute__',\n",
              " '__gt__',\n",
              " '__hash__',\n",
              " '__iand__',\n",
              " '__init__',\n",
              " '__init_subclass__',\n",
              " '__ior__',\n",
              " '__isub__',\n",
              " '__iter__',\n",
              " '__ixor__',\n",
              " '__le__',\n",
              " '__len__',\n",
              " '__lt__',\n",
              " '__ne__',\n",
              " '__new__',\n",
              " '__or__',\n",
              " '__rand__',\n",
              " '__reduce__',\n",
              " '__reduce_ex__',\n",
              " '__repr__',\n",
              " '__ror__',\n",
              " '__rsub__',\n",
              " '__rxor__',\n",
              " '__setattr__',\n",
              " '__sizeof__',\n",
              " '__str__',\n",
              " '__sub__',\n",
              " '__subclasshook__',\n",
              " '__xor__',\n",
              " 'add',\n",
              " 'clear',\n",
              " 'copy',\n",
              " 'difference',\n",
              " 'difference_update',\n",
              " 'discard',\n",
              " 'intersection',\n",
              " 'intersection_update',\n",
              " 'isdisjoint',\n",
              " 'issubset',\n",
              " 'issuperset',\n",
              " 'pop',\n",
              " 'remove',\n",
              " 'symmetric_difference',\n",
              " 'symmetric_difference_update',\n",
              " 'union',\n",
              " 'update']"
            ]
          },
          "metadata": {},
          "execution_count": 74
        }
      ]
    },
    {
      "cell_type": "markdown",
      "source": [
        "#### Updating Sets"
      ],
      "metadata": {
        "id": "lRjpbpcSbHA8"
      }
    },
    {
      "cell_type": "code",
      "source": [
        "days = {'Mon', 'Tue', 'Wed'}\n",
        "days.add('Thu')\n",
        "print(days)"
      ],
      "metadata": {
        "colab": {
          "base_uri": "https://localhost:8080/"
        },
        "id": "_QB6l7WpbG-c",
        "outputId": "a0a50312-a873-4aa0-d553-2008c1ac4795"
      },
      "execution_count": 33,
      "outputs": [
        {
          "output_type": "stream",
          "name": "stdout",
          "text": [
            "{'Tue', 'Thu', 'Wed', 'Mon'}\n"
          ]
        }
      ]
    },
    {
      "cell_type": "code",
      "source": [
        "# set.add(foo) - paramter: object\n",
        "# adds foo to set\n",
        "# cannot add more than one object!\n",
        "days.add(['Fri', 'Sat', 'Tue'])"
      ],
      "metadata": {
        "colab": {
          "base_uri": "https://localhost:8080/",
          "height": 187
        },
        "id": "8H_j-em3rRVy",
        "outputId": "bacb11e1-ab36-4cc5-8690-7c98134c8595"
      },
      "execution_count": 29,
      "outputs": [
        {
          "output_type": "error",
          "ename": "TypeError",
          "evalue": "ignored",
          "traceback": [
            "\u001b[0;31m---------------------------------------------------------------------------\u001b[0m",
            "\u001b[0;31mTypeError\u001b[0m                                 Traceback (most recent call last)",
            "\u001b[0;32m<ipython-input-29-724dcb712d10>\u001b[0m in \u001b[0;36m<cell line: 1>\u001b[0;34m()\u001b[0m\n\u001b[0;32m----> 1\u001b[0;31m \u001b[0mdays\u001b[0m\u001b[0;34m.\u001b[0m\u001b[0madd\u001b[0m\u001b[0;34m(\u001b[0m\u001b[0;34m[\u001b[0m\u001b[0;34m'Fri'\u001b[0m\u001b[0;34m,\u001b[0m \u001b[0;34m'Sat'\u001b[0m\u001b[0;34m,\u001b[0m \u001b[0;34m'Tue'\u001b[0m\u001b[0;34m]\u001b[0m\u001b[0;34m)\u001b[0m\u001b[0;34m\u001b[0m\u001b[0;34m\u001b[0m\u001b[0m\n\u001b[0m",
            "\u001b[0;31mTypeError\u001b[0m: unhashable type: 'list'"
          ]
        }
      ]
    },
    {
      "cell_type": "code",
      "source": [
        "days.update(['Fri', 'Sat', 'Tue'])\n",
        "print(days)"
      ],
      "metadata": {
        "colab": {
          "base_uri": "https://localhost:8080/"
        },
        "id": "PlgrlgrjbG76",
        "outputId": "6e42769f-ec21-404e-f1aa-a5cb0e670ee1"
      },
      "execution_count": 34,
      "outputs": [
        {
          "output_type": "stream",
          "name": "stdout",
          "text": [
            "{'Tue', 'Wed', 'Mon', 'Sat', 'Thu', 'Fri'}\n"
          ]
        }
      ]
    },
    {
      "cell_type": "code",
      "source": [
        "# interesting\n",
        "# tuple.update(string)\n",
        "# results in string added as list (chars)\n",
        "days.update('works?')\n",
        "print(days)"
      ],
      "metadata": {
        "colab": {
          "base_uri": "https://localhost:8080/"
        },
        "id": "aIuWPrpqrnBs",
        "outputId": "6cd4b912-d65b-425e-f272-f0af335f76cd"
      },
      "execution_count": 32,
      "outputs": [
        {
          "output_type": "stream",
          "name": "stdout",
          "text": [
            "{'o', 'Tue', 'Wed', 'Mon', 'Sat', 's', '?', 'w', 'Thu', 'Fri', 'k', 'r'}\n"
          ]
        }
      ]
    },
    {
      "cell_type": "code",
      "source": [
        "# tuple.remove(foo) paramter: obj\n",
        "# remove specified object from tuple\n",
        "days.remove('Mon')\n",
        "print(days)"
      ],
      "metadata": {
        "colab": {
          "base_uri": "https://localhost:8080/"
        },
        "id": "ykA22EpxbG5g",
        "outputId": "24122f51-c589-4dd6-c842-6c7e920cbbb8"
      },
      "execution_count": 35,
      "outputs": [
        {
          "output_type": "stream",
          "name": "stdout",
          "text": [
            "{'Tue', 'Wed', 'Sat', 'Thu', 'Fri'}\n"
          ]
        }
      ]
    },
    {
      "cell_type": "code",
      "source": [
        "# pop is random do not use unless going for that\n",
        "days.pop()\n",
        "print(days)"
      ],
      "metadata": {
        "colab": {
          "base_uri": "https://localhost:8080/"
        },
        "id": "97bJoIGYbG3S",
        "outputId": "e8078f76-b948-4d14-9fe4-85357853983a"
      },
      "execution_count": 36,
      "outputs": [
        {
          "output_type": "stream",
          "name": "stdout",
          "text": [
            "{'Wed', 'Sat', 'Thu', 'Fri'}\n"
          ]
        }
      ]
    },
    {
      "cell_type": "code",
      "source": [
        "days.clear()\n",
        "print(days)"
      ],
      "metadata": {
        "colab": {
          "base_uri": "https://localhost:8080/"
        },
        "id": "WBbBQ3LNbG0u",
        "outputId": "2606a343-59f8-47ef-f3b2-461672f2f406"
      },
      "execution_count": null,
      "outputs": [
        {
          "output_type": "stream",
          "name": "stdout",
          "text": [
            "set()\n"
          ]
        }
      ]
    },
    {
      "cell_type": "code",
      "source": [
        "days"
      ],
      "metadata": {
        "colab": {
          "base_uri": "https://localhost:8080/"
        },
        "id": "hvIaNITxbGxU",
        "outputId": "2febfe1c-4189-4187-a615-d22a8c943cfd"
      },
      "execution_count": null,
      "outputs": [
        {
          "output_type": "execute_result",
          "data": {
            "text/plain": [
              "set()"
            ]
          },
          "metadata": {},
          "execution_count": 80
        }
      ]
    },
    {
      "cell_type": "code",
      "source": [
        "del days\n",
        "print(days)"
      ],
      "metadata": {
        "colab": {
          "base_uri": "https://localhost:8080/",
          "height": 184
        },
        "id": "DgcZHrNmbGvb",
        "outputId": "01521243-b776-42ea-901a-d0963d332693"
      },
      "execution_count": null,
      "outputs": [
        {
          "output_type": "error",
          "ename": "NameError",
          "evalue": "ignored",
          "traceback": [
            "\u001b[0;31m---------------------------------------------------------------------------\u001b[0m",
            "\u001b[0;31mNameError\u001b[0m                                 Traceback (most recent call last)",
            "\u001b[0;32m<ipython-input-81-30ccb9729dce>\u001b[0m in \u001b[0;36m<cell line: 2>\u001b[0;34m()\u001b[0m\n\u001b[1;32m      1\u001b[0m \u001b[0;32mdel\u001b[0m \u001b[0mdays\u001b[0m\u001b[0;34m\u001b[0m\u001b[0;34m\u001b[0m\u001b[0m\n\u001b[0;32m----> 2\u001b[0;31m \u001b[0mprint\u001b[0m\u001b[0;34m(\u001b[0m\u001b[0mdays\u001b[0m\u001b[0;34m)\u001b[0m\u001b[0;34m\u001b[0m\u001b[0;34m\u001b[0m\u001b[0m\n\u001b[0m",
            "\u001b[0;31mNameError\u001b[0m: name 'days' is not defined"
          ]
        }
      ]
    },
    {
      "cell_type": "markdown",
      "source": [
        "## Dictionaries"
      ],
      "metadata": {
        "id": "fqKfGfWcbGtL"
      }
    },
    {
      "cell_type": "code",
      "source": [
        "# unordered collection data type of key:value pairs\n",
        "my_cat = {\n",
        "      'name' : 'Fluffy',\n",
        "      'age' : 2,\n",
        "      'color' : 'black'\n",
        "}"
      ],
      "metadata": {
        "id": "-4ETze3RbGq_"
      },
      "execution_count": 39,
      "outputs": []
    },
    {
      "cell_type": "code",
      "source": [
        "type(my_cat)"
      ],
      "metadata": {
        "colab": {
          "base_uri": "https://localhost:8080/"
        },
        "id": "pC65hhH3bGof",
        "outputId": "2bace4c6-84e2-4a27-ceb8-66c9593a08db"
      },
      "execution_count": null,
      "outputs": [
        {
          "output_type": "execute_result",
          "data": {
            "text/plain": [
              "dict"
            ]
          },
          "metadata": {},
          "execution_count": 84
        }
      ]
    },
    {
      "cell_type": "code",
      "source": [
        "dir(my_cat)"
      ],
      "metadata": {
        "colab": {
          "base_uri": "https://localhost:8080/"
        },
        "id": "V83B6U7qgeD4",
        "outputId": "628835e3-ab7b-4842-fbdb-f118e94a0bac"
      },
      "execution_count": null,
      "outputs": [
        {
          "output_type": "execute_result",
          "data": {
            "text/plain": [
              "['__class__',\n",
              " '__class_getitem__',\n",
              " '__contains__',\n",
              " '__delattr__',\n",
              " '__delitem__',\n",
              " '__dir__',\n",
              " '__doc__',\n",
              " '__eq__',\n",
              " '__format__',\n",
              " '__ge__',\n",
              " '__getattribute__',\n",
              " '__getitem__',\n",
              " '__gt__',\n",
              " '__hash__',\n",
              " '__init__',\n",
              " '__init_subclass__',\n",
              " '__ior__',\n",
              " '__iter__',\n",
              " '__le__',\n",
              " '__len__',\n",
              " '__lt__',\n",
              " '__ne__',\n",
              " '__new__',\n",
              " '__or__',\n",
              " '__reduce__',\n",
              " '__reduce_ex__',\n",
              " '__repr__',\n",
              " '__reversed__',\n",
              " '__ror__',\n",
              " '__setattr__',\n",
              " '__setitem__',\n",
              " '__sizeof__',\n",
              " '__str__',\n",
              " '__subclasshook__',\n",
              " 'clear',\n",
              " 'copy',\n",
              " 'fromkeys',\n",
              " 'get',\n",
              " 'items',\n",
              " 'keys',\n",
              " 'pop',\n",
              " 'popitem',\n",
              " 'setdefault',\n",
              " 'update',\n",
              " 'values']"
            ]
          },
          "metadata": {},
          "execution_count": 85
        }
      ]
    },
    {
      "cell_type": "code",
      "source": [
        "# dict[key] return value\n",
        "print(my_cat['name'])"
      ],
      "metadata": {
        "colab": {
          "base_uri": "https://localhost:8080/"
        },
        "id": "Tzh0yX6Oghdf",
        "outputId": "a65afdf6-31e3-4397-fa46-02373b3377a0"
      },
      "execution_count": null,
      "outputs": [
        {
          "output_type": "stream",
          "name": "stdout",
          "text": [
            "Fluffy\n"
          ]
        }
      ]
    },
    {
      "cell_type": "code",
      "source": [
        "# dict.get(key) return value\n",
        "print(my_cat.get('age'))"
      ],
      "metadata": {
        "colab": {
          "base_uri": "https://localhost:8080/"
        },
        "id": "Uu99biBUghah",
        "outputId": "08cbe794-95b0-45a8-a64b-a734d8d0ed50"
      },
      "execution_count": null,
      "outputs": [
        {
          "output_type": "stream",
          "name": "stdout",
          "text": [
            "2\n"
          ]
        }
      ]
    },
    {
      "cell_type": "code",
      "source": [
        "# dict.values() return all values\n",
        "print(my_cat.values())"
      ],
      "metadata": {
        "colab": {
          "base_uri": "https://localhost:8080/"
        },
        "id": "lFr-h4PsghXs",
        "outputId": "d8551c9e-5d69-4bcf-84fd-47e11679be1a"
      },
      "execution_count": null,
      "outputs": [
        {
          "output_type": "stream",
          "name": "stdout",
          "text": [
            "dict_values(['Fluffy', 2, 'black'])\n"
          ]
        }
      ]
    },
    {
      "cell_type": "code",
      "source": [
        "# dict.keys() return all keys\n",
        "print(my_cat.keys())"
      ],
      "metadata": {
        "colab": {
          "base_uri": "https://localhost:8080/"
        },
        "id": "CdKLi6OTghVT",
        "outputId": "fa57ed1d-7f18-457d-d2c0-5c1296225528"
      },
      "execution_count": null,
      "outputs": [
        {
          "output_type": "stream",
          "name": "stdout",
          "text": [
            "dict_keys(['name', 'age', 'color'])\n"
          ]
        }
      ]
    },
    {
      "cell_type": "code",
      "source": [
        "# dict return all key:value\n",
        "my_cat"
      ],
      "metadata": {
        "colab": {
          "base_uri": "https://localhost:8080/"
        },
        "id": "XuQi9rLzghRs",
        "outputId": "3d86f6c0-48fa-46b3-ca50-6ffdd93c0afa"
      },
      "execution_count": null,
      "outputs": [
        {
          "output_type": "execute_result",
          "data": {
            "text/plain": [
              "{'name': 'Fluffy', 'age': 2, 'color': 'black'}"
            ]
          },
          "metadata": {},
          "execution_count": 90
        }
      ]
    },
    {
      "cell_type": "code",
      "source": [
        "print(my_cat.items())"
      ],
      "metadata": {
        "colab": {
          "base_uri": "https://localhost:8080/"
        },
        "id": "ZtpR7q8SghOj",
        "outputId": "96cafa82-ebf0-4b59-bd2f-51cf31b6c6b5"
      },
      "execution_count": null,
      "outputs": [
        {
          "output_type": "stream",
          "name": "stdout",
          "text": [
            "dict_items([('name', 'Fluffy'), ('age', 2), ('color', 'black')])\n"
          ]
        }
      ]
    },
    {
      "cell_type": "code",
      "source": [
        "print('name' in my_cat)"
      ],
      "metadata": {
        "colab": {
          "base_uri": "https://localhost:8080/"
        },
        "id": "kvZYHh7LghLx",
        "outputId": "7cc3cad9-008f-4d39-bb3c-46b6b5a2cfb1"
      },
      "execution_count": null,
      "outputs": [
        {
          "output_type": "stream",
          "name": "stdout",
          "text": [
            "True\n"
          ]
        }
      ]
    },
    {
      "cell_type": "code",
      "source": [
        "print('Fluffiness' in my_cat)"
      ],
      "metadata": {
        "colab": {
          "base_uri": "https://localhost:8080/"
        },
        "id": "sF9vqndXghI6",
        "outputId": "06b9c64a-527e-46d8-ad41-3b222ac878b9"
      },
      "execution_count": null,
      "outputs": [
        {
          "output_type": "stream",
          "name": "stdout",
          "text": [
            "False\n"
          ]
        }
      ]
    },
    {
      "cell_type": "markdown",
      "source": [
        "#### Updating Dictionary Functions"
      ],
      "metadata": {
        "id": "Uk7TZHf5ghGg"
      }
    },
    {
      "cell_type": "code",
      "source": [
        "print(my_cat)\n",
        "my_cat['gender'] = 'male'\n",
        "print(my_cat)\n",
        "\n",
        "# declaring a new key for the dict\n",
        "# makes a new key, requires value\n",
        "# even if value=null"
      ],
      "metadata": {
        "colab": {
          "base_uri": "https://localhost:8080/"
        },
        "id": "mz8hXDIrghD7",
        "outputId": "20a8e96b-1885-4149-da65-b86687103611"
      },
      "execution_count": null,
      "outputs": [
        {
          "output_type": "stream",
          "name": "stdout",
          "text": [
            "{'name': 'Fluffy', 'age': 2, 'color': 'black'}\n",
            "{'name': 'Fluffy', 'age': 2, 'color': 'black', 'gender': 'male'}\n"
          ]
        }
      ]
    },
    {
      "cell_type": "code",
      "source": [
        "my_cat"
      ],
      "metadata": {
        "colab": {
          "base_uri": "https://localhost:8080/"
        },
        "id": "XtrXyvHyghBD",
        "outputId": "6531b96e-ec06-4c02-d3cb-7f9a3ae33ed0"
      },
      "execution_count": null,
      "outputs": [
        {
          "output_type": "execute_result",
          "data": {
            "text/plain": [
              "{'name': 'Fluffy', 'age': 2, 'color': 'black', 'gender': 'male'}"
            ]
          },
          "metadata": {},
          "execution_count": 95
        }
      ]
    },
    {
      "cell_type": "code",
      "source": [
        "my_cat['weight']\n",
        "my_cat"
      ],
      "metadata": {
        "colab": {
          "base_uri": "https://localhost:8080/",
          "height": 204
        },
        "id": "JugkrCgIwoa7",
        "outputId": "fc69f34d-e3af-4a97-ca23-f68b93dfcbf9"
      },
      "execution_count": 40,
      "outputs": [
        {
          "output_type": "error",
          "ename": "KeyError",
          "evalue": "ignored",
          "traceback": [
            "\u001b[0;31m---------------------------------------------------------------------------\u001b[0m",
            "\u001b[0;31mKeyError\u001b[0m                                  Traceback (most recent call last)",
            "\u001b[0;32m<ipython-input-40-bcfb9e737780>\u001b[0m in \u001b[0;36m<cell line: 1>\u001b[0;34m()\u001b[0m\n\u001b[0;32m----> 1\u001b[0;31m \u001b[0mmy_cat\u001b[0m\u001b[0;34m[\u001b[0m\u001b[0;34m'weight'\u001b[0m\u001b[0;34m]\u001b[0m\u001b[0;34m\u001b[0m\u001b[0;34m\u001b[0m\u001b[0m\n\u001b[0m\u001b[1;32m      2\u001b[0m \u001b[0mmy_cat\u001b[0m\u001b[0;34m\u001b[0m\u001b[0;34m\u001b[0m\u001b[0m\n",
            "\u001b[0;31mKeyError\u001b[0m: 'weight'"
          ]
        }
      ]
    },
    {
      "cell_type": "code",
      "source": [
        "my_cat['weight'] = None\n",
        "my_cat"
      ],
      "metadata": {
        "colab": {
          "base_uri": "https://localhost:8080/"
        },
        "id": "isB_bie-wtgc",
        "outputId": "38774e44-5d65-400c-a113-15ca09d991ca"
      },
      "execution_count": 41,
      "outputs": [
        {
          "output_type": "execute_result",
          "data": {
            "text/plain": [
              "{'name': 'Fluffy', 'age': 2, 'color': 'black', 'weight': None}"
            ]
          },
          "metadata": {},
          "execution_count": 41
        }
      ]
    },
    {
      "cell_type": "code",
      "source": [
        "# dict.popitem() pops item (could be random like tuple)\n",
        "# probably is, treat as so\n",
        "my_cat.popitem()\n",
        "print(my_cat)"
      ],
      "metadata": {
        "id": "zN_B5mp8gg8C",
        "colab": {
          "base_uri": "https://localhost:8080/"
        },
        "outputId": "bcc0d49f-892b-4439-c01a-cfcfc19d2fad"
      },
      "execution_count": 42,
      "outputs": [
        {
          "output_type": "stream",
          "name": "stdout",
          "text": [
            "{'name': 'Fluffy', 'age': 2, 'color': 'black'}\n"
          ]
        }
      ]
    },
    {
      "cell_type": "code",
      "source": [
        "# dict.pop() pops last key:value\n",
        "my_cat.pop('color')\n",
        "my_cat"
      ],
      "metadata": {
        "colab": {
          "base_uri": "https://localhost:8080/"
        },
        "id": "NroISS3kgg-j",
        "outputId": "5f41a944-0ee1-47ed-b86f-867a1f9957c1"
      },
      "execution_count": null,
      "outputs": [
        {
          "output_type": "execute_result",
          "data": {
            "text/plain": [
              "{'name': 'Fluffy', 'age': 2, 'gender': 'male'}"
            ]
          },
          "metadata": {},
          "execution_count": 96
        }
      ]
    },
    {
      "cell_type": "code",
      "source": [
        "# overwrite value by reassigning\n",
        "my_cat['name'] = 'fluffier'\n",
        "print(my_cat)"
      ],
      "metadata": {
        "id": "cVJM9Ih2gg5x",
        "colab": {
          "base_uri": "https://localhost:8080/"
        },
        "outputId": "7f81bfc9-374d-47dd-a271-ded39c42dc64"
      },
      "execution_count": 43,
      "outputs": [
        {
          "output_type": "stream",
          "name": "stdout",
          "text": [
            "{'name': 'fluffier', 'age': 2, 'color': 'black'}\n"
          ]
        }
      ]
    },
    {
      "cell_type": "markdown",
      "source": [
        "#### Nesting Dictionaries"
      ],
      "metadata": {
        "id": "Q6EXI9G5ir9m"
      }
    },
    {
      "cell_type": "code",
      "source": [
        "# dictionary of dictionaries\n",
        "family = {\n",
        "\n",
        "      'child1' : {\n",
        "          'name' : 'Alex',\n",
        "          'year' : 2004\n",
        "      },\n",
        "      'child2' : {\n",
        "          'name' : 'Monica',\n",
        "          'year' : 2000\n",
        "      }\n",
        "}"
      ],
      "metadata": {
        "id": "1xzaP2FVir6w"
      },
      "execution_count": null,
      "outputs": []
    },
    {
      "cell_type": "code",
      "source": [
        "family"
      ],
      "metadata": {
        "colab": {
          "base_uri": "https://localhost:8080/"
        },
        "id": "VrpzZJC7ir3X",
        "outputId": "7ce4af38-6d6a-4a69-8874-86be9f13183f"
      },
      "execution_count": null,
      "outputs": [
        {
          "output_type": "execute_result",
          "data": {
            "text/plain": [
              "{'child1': {'name': 'Alex', 'year': 2004},\n",
              " 'child2': {'name': 'Monica', 'year': 2000}}"
            ]
          },
          "metadata": {},
          "execution_count": 98
        }
      ]
    }
  ]
}