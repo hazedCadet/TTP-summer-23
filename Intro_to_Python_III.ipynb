{
  "nbformat": 4,
  "nbformat_minor": 0,
  "metadata": {
    "colab": {
      "provenance": [],
      "authorship_tag": "ABX9TyON14CeNp5dCr1VcLM6Lzbm",
      "include_colab_link": true
    },
    "kernelspec": {
      "name": "python3",
      "display_name": "Python 3"
    },
    "language_info": {
      "name": "python"
    }
  },
  "cells": [
    {
      "cell_type": "markdown",
      "metadata": {
        "id": "view-in-github",
        "colab_type": "text"
      },
      "source": [
        "<a href=\"https://colab.research.google.com/github/hazedCadet/TTP-summer-23/blob/main/Intro_to_Python_III.ipynb\" target=\"_parent\"><img src=\"https://colab.research.google.com/assets/colab-badge.svg\" alt=\"Open In Colab\"/></a>"
      ]
    },
    {
      "cell_type": "markdown",
      "source": [
        "# Conditionals"
      ],
      "metadata": {
        "id": "PyObfTOcnyp3"
      }
    },
    {
      "cell_type": "markdown",
      "source": [
        "## If Statement"
      ],
      "metadata": {
        "id": "5oVFizJioAjq"
      }
    },
    {
      "cell_type": "code",
      "source": [
        "night = True"
      ],
      "metadata": {
        "id": "TW2HdOU8oIxA"
      },
      "execution_count": null,
      "outputs": []
    },
    {
      "cell_type": "code",
      "source": [
        "type(night)"
      ],
      "metadata": {
        "colab": {
          "base_uri": "https://localhost:8080/"
        },
        "id": "0768cFkJoIux",
        "outputId": "318674f9-1f32-4325-a76c-064400305720"
      },
      "execution_count": null,
      "outputs": [
        {
          "output_type": "execute_result",
          "data": {
            "text/plain": [
              "bool"
            ]
          },
          "metadata": {},
          "execution_count": 2
        }
      ]
    },
    {
      "cell_type": "code",
      "source": [
        "# if true:\n",
        "#     then\n",
        "# else:\n",
        "#     then\n",
        "if night:\n",
        "  print('It\\'s night. Sleeping')\n",
        "else:\n",
        "  print('It\\'s day. Being active')\n",
        "print('Out of the if statement')"
      ],
      "metadata": {
        "colab": {
          "base_uri": "https://localhost:8080/"
        },
        "id": "Ks75YSDBoIs-",
        "outputId": "15edeceb-64bf-41d3-bf84-3b676f474c1d"
      },
      "execution_count": null,
      "outputs": [
        {
          "output_type": "stream",
          "name": "stdout",
          "text": [
            "It's night. Sleeping\n",
            "Out of the if statement\n"
          ]
        }
      ]
    },
    {
      "cell_type": "code",
      "source": [
        "night = False\n",
        "if night:\n",
        "  print('It\\'s night. Sleeping')\n",
        "else:\n",
        "  print('It\\'s day. Being active')\n",
        "print('Out of the if statement')"
      ],
      "metadata": {
        "colab": {
          "base_uri": "https://localhost:8080/"
        },
        "id": "7r4l2poFoIn4",
        "outputId": "742af305-eb56-47ab-8a18-7a073ec73745"
      },
      "execution_count": null,
      "outputs": [
        {
          "output_type": "stream",
          "name": "stdout",
          "text": [
            "It's day. Being active\n",
            "Out of the if statement\n"
          ]
        }
      ]
    },
    {
      "cell_type": "code",
      "source": [
        "a, b, c = 100, 50, 20\n",
        "if a > b and b > c:\n",
        "  print(f'{a} greater than {c}')"
      ],
      "metadata": {
        "colab": {
          "base_uri": "https://localhost:8080/"
        },
        "id": "GWG59w5soIkv",
        "outputId": "4d6ceacf-2f0e-453b-f6a0-223305d2f610"
      },
      "execution_count": null,
      "outputs": [
        {
          "output_type": "stream",
          "name": "stdout",
          "text": [
            "100 greater than 20\n"
          ]
        }
      ]
    },
    {
      "cell_type": "code",
      "source": [
        "data = input('Do you have the keys? (yes/no)')\n",
        "if data.lower() == 'yes':\n",
        "  print('Starting the car')\n",
        "else:\n",
        "  print('Cannot statr the car without the keys')"
      ],
      "metadata": {
        "id": "8JZ7pztNoId7"
      },
      "execution_count": null,
      "outputs": []
    },
    {
      "cell_type": "code",
      "source": [
        "data = input('Please enter the curent hour (0-23): ')\n",
        "hour = int(data)\n",
        "if hour < 12:\n",
        "  print(f'It\\'s {hour} am')\n",
        "else:\n",
        "  print(f'It\\'s {hour-12} pm')"
      ],
      "metadata": {
        "id": "OQpqHVgzoIax"
      },
      "execution_count": null,
      "outputs": []
    },
    {
      "cell_type": "markdown",
      "source": [
        "### Nested if Statements"
      ],
      "metadata": {
        "id": "9CSE1FsI46et"
      }
    },
    {
      "cell_type": "code",
      "source": [
        "pet_store = ['cat', 'dog', 'rabbit']\n",
        "has_cat_food = True\n",
        "\n",
        "if 'cat' in pet_store:\n",
        "  print('Alright! They have a cat for me')\n",
        "\n",
        "  if has_cat_food:\n",
        "    print('Buying cat and cat food')\n",
        "  else:\n",
        "    print('Buying cat only')\n",
        "else:\n",
        "    print('Ask store to get cat')"
      ],
      "metadata": {
        "id": "aLlbHgyXoIX7"
      },
      "execution_count": null,
      "outputs": []
    },
    {
      "cell_type": "markdown",
      "source": [
        "#### More on indentation"
      ],
      "metadata": {
        "id": "5S5QIcrNoISn"
      }
    },
    {
      "cell_type": "markdown",
      "source": [
        "#### If-Elif-Else"
      ],
      "metadata": {
        "id": "7daav1smoHuU"
      }
    },
    {
      "cell_type": "code",
      "source": [
        "age = int(input(\"Please enter your age: \"))\n",
        "\n",
        "if age < 18:\n",
        "    print(\"You are a minor\")\n",
        "elif age < 21:\n",
        "    print(\"You are an adult but cannot drink alcohol\")\n",
        "elif age < 35:\n",
        "    print(\"You are younger than 35\")\n",
        "else:\n",
        "    print(\"You are an adult\")\n",
        "\n",
        "print(\"If statement finished\")"
      ],
      "metadata": {
        "id": "_nUOjIKV6MNf"
      },
      "execution_count": null,
      "outputs": []
    },
    {
      "cell_type": "markdown",
      "source": [
        "#### Shorthand if statments"
      ],
      "metadata": {
        "id": "9ol8e23poAgv"
      }
    },
    {
      "cell_type": "code",
      "source": [
        "a, b, = 50, 20\n",
        "if a > b : print('a > b')\n",
        "# same line syntax"
      ],
      "metadata": {
        "id": "1MYSlHMI6qAx"
      },
      "execution_count": null,
      "outputs": []
    },
    {
      "cell_type": "code",
      "source": [
        "# TRUE-do if condition else False-do\n",
        "print('a > b') if a > b else print('b > a')"
      ],
      "metadata": {
        "id": "wES1YdSAoAeP"
      },
      "execution_count": null,
      "outputs": []
    },
    {
      "cell_type": "code",
      "source": [
        "max = a if a > b else b\n",
        "print(max)"
      ],
      "metadata": {
        "id": "h8DYDaRloAZj"
      },
      "execution_count": null,
      "outputs": []
    },
    {
      "cell_type": "markdown",
      "source": [
        "#### The pass keyword"
      ],
      "metadata": {
        "id": "mFEDJw4BoAUi"
      }
    },
    {
      "cell_type": "code",
      "source": [
        "has_cat = False\n",
        "\n",
        "if has_cat:\n",
        "  pass\n",
        "else:\n",
        "  print('You should get a cat')"
      ],
      "metadata": {
        "id": "g0eeFcN3oASX"
      },
      "execution_count": null,
      "outputs": []
    },
    {
      "cell_type": "code",
      "source": [
        "# pass is placeholder\n",
        "has_dog = not True\n",
        "\n",
        "if has_dog:\n",
        "  print('Awesome!')\n",
        "else:\n",
        "  pass\n",
        "  print(\"You should get one\")"
      ],
      "metadata": {
        "id": "9z7SdStwoABK",
        "colab": {
          "base_uri": "https://localhost:8080/"
        },
        "outputId": "91d19ec0-3141-4b8c-c5d3-f4149cb0e589"
      },
      "execution_count": 3,
      "outputs": [
        {
          "output_type": "stream",
          "name": "stdout",
          "text": [
            "You should get one\n"
          ]
        }
      ]
    },
    {
      "cell_type": "markdown",
      "source": [
        "#### Practice:"
      ],
      "metadata": {
        "id": "bCtbVEQSn_8e"
      }
    },
    {
      "cell_type": "code",
      "source": [
        "import random\n",
        "\n",
        "nb = random.randint(0,100)\n",
        "print(f'Number {nb} is even') if nb%2==0 else print(f'Number {nb} is odd')\n"
      ],
      "metadata": {
        "id": "Kazq97PTn_5p"
      },
      "execution_count": null,
      "outputs": []
    },
    {
      "cell_type": "code",
      "source": [
        "numb = int(input('Please enter a number from 0-100: '))\n",
        "print(f'Number {numb} is even') if numb%2==0 else print(f'Number {numb} is odd')"
      ],
      "metadata": {
        "id": "866IHNKbn_yd"
      },
      "execution_count": null,
      "outputs": []
    },
    {
      "cell_type": "markdown",
      "source": [
        "## For Loop"
      ],
      "metadata": {
        "id": "7hZDPR8kn_vU"
      }
    },
    {
      "cell_type": "code",
      "source": [
        "# for foo in bar:\n",
        "# initiate for loop: for\n",
        "# declare iterator: foo\n",
        "# for loop syntax: in\n",
        "# object to be iterated: bar\n",
        "\n",
        "animals = ['cat', 'dog', 'horse']\n",
        "for animal in animals:\n",
        "    print(f\"There is a {animal}\")"
      ],
      "metadata": {
        "id": "njqRmMYwn_sN",
        "colab": {
          "base_uri": "https://localhost:8080/"
        },
        "outputId": "dd5a160f-2ff3-4513-9eba-80e93e4d09cb"
      },
      "execution_count": 4,
      "outputs": [
        {
          "output_type": "stream",
          "name": "stdout",
          "text": [
            "There is a cat\n",
            "There is a dog\n",
            "There is a horse\n"
          ]
        }
      ]
    },
    {
      "cell_type": "code",
      "source": [
        "for letter in 'pineapple':\n",
        "    print(letter.upper())\n",
        "# char.upper pineapple"
      ],
      "metadata": {
        "id": "IKN0piCEn_pZ",
        "colab": {
          "base_uri": "https://localhost:8080/"
        },
        "outputId": "de881fd2-d213-4d00-a3ba-5e98968be3e6"
      },
      "execution_count": 5,
      "outputs": [
        {
          "output_type": "stream",
          "name": "stdout",
          "text": [
            "P\n",
            "I\n",
            "N\n",
            "E\n",
            "A\n",
            "P\n",
            "P\n",
            "L\n",
            "E\n"
          ]
        }
      ]
    },
    {
      "cell_type": "code",
      "source": [
        "# ranged for loop\n",
        "# range(foo, bar, baz)\n",
        "# foo: start number\n",
        "# optional! bar: end number (not inclusive)\n",
        "# if bar not present, foo is considered end still not inclusive\n",
        "# optional! baz: number by which to iterate\n",
        "# if baz not present, always iterate by 1\n",
        "for number in range(0, 20, 2):\n",
        "    print(f\"{number} is an even number\")"
      ],
      "metadata": {
        "id": "RbvbDxgDn_nN",
        "colab": {
          "base_uri": "https://localhost:8080/"
        },
        "outputId": "34a11525-3820-4fb6-a813-26a58647deee"
      },
      "execution_count": 6,
      "outputs": [
        {
          "output_type": "stream",
          "name": "stdout",
          "text": [
            "0 is an even number\n",
            "2 is an even number\n",
            "4 is an even number\n",
            "6 is an even number\n",
            "8 is an even number\n",
            "10 is an even number\n",
            "12 is an even number\n",
            "14 is an even number\n",
            "16 is an even number\n",
            "18 is an even number\n"
          ]
        }
      ]
    },
    {
      "cell_type": "code",
      "source": [
        "for number in range(0, 20, 2):\n",
        "    print(f\"{number} is an even number\")\n",
        "    if number == 10:\n",
        "        print(\"On ho! Not 10\")\n",
        "        break\n",
        "print(\"Next steps in out code\")"
      ],
      "metadata": {
        "id": "5uG5iRdHn_kt",
        "colab": {
          "base_uri": "https://localhost:8080/"
        },
        "outputId": "8b29a963-551d-4ce9-8d63-f9ababcf43aa"
      },
      "execution_count": 7,
      "outputs": [
        {
          "output_type": "stream",
          "name": "stdout",
          "text": [
            "0 is an even number\n",
            "2 is an even number\n",
            "4 is an even number\n",
            "6 is an even number\n",
            "8 is an even number\n",
            "10 is an even number\n",
            "On ho! Not 10\n",
            "Next steps in out code\n"
          ]
        }
      ]
    },
    {
      "cell_type": "code",
      "source": [
        "for number in range(0, 20, 2):\n",
        "    if number == 10:\n",
        "        print(\"We are not executing 10\")\n",
        "        continue\n",
        "    print(f\"{number} is an even number\")"
      ],
      "metadata": {
        "id": "GzcW9F8Ln_ig",
        "colab": {
          "base_uri": "https://localhost:8080/"
        },
        "outputId": "35caebd0-c27d-4215-f079-871ded643d24"
      },
      "execution_count": 8,
      "outputs": [
        {
          "output_type": "stream",
          "name": "stdout",
          "text": [
            "0 is an even number\n",
            "2 is an even number\n",
            "4 is an even number\n",
            "6 is an even number\n",
            "8 is an even number\n",
            "We are not executing 10\n",
            "12 is an even number\n",
            "14 is an even number\n",
            "16 is an even number\n",
            "18 is an even number\n"
          ]
        }
      ]
    },
    {
      "cell_type": "markdown",
      "source": [
        "#### Practice"
      ],
      "metadata": {
        "id": "M0d1MoqPn_gA"
      }
    },
    {
      "cell_type": "code",
      "source": [
        "for i in range(0, 10):\n",
        "    print(\"Hello for loop\")"
      ],
      "metadata": {
        "id": "4ZkrulvNn_c3",
        "colab": {
          "base_uri": "https://localhost:8080/"
        },
        "outputId": "babc52b7-df2a-4eef-db83-ac20ac8d0588"
      },
      "execution_count": 9,
      "outputs": [
        {
          "output_type": "stream",
          "name": "stdout",
          "text": [
            "Hello for loop\n",
            "Hello for loop\n",
            "Hello for loop\n",
            "Hello for loop\n",
            "Hello for loop\n",
            "Hello for loop\n",
            "Hello for loop\n",
            "Hello for loop\n",
            "Hello for loop\n",
            "Hello for loop\n"
          ]
        }
      ]
    },
    {
      "cell_type": "code",
      "source": [
        "sum = 0\n",
        "for number in range(0, 101):\n",
        "    if number % 10 == 0:\n",
        "        continue\n",
        "    sum += number\n",
        "print(f\"The sum is {sum}\")"
      ],
      "metadata": {
        "id": "l7vB2OP8n_aZ",
        "colab": {
          "base_uri": "https://localhost:8080/"
        },
        "outputId": "36470394-9c28-457b-d32e-cb566f861345"
      },
      "execution_count": 10,
      "outputs": [
        {
          "output_type": "stream",
          "name": "stdout",
          "text": [
            "The sum is 4500\n"
          ]
        }
      ]
    },
    {
      "cell_type": "code",
      "source": [
        "customers = {\n",
        "    'Alice': 4,\n",
        "    'Judy': 8,\n",
        "    'Anna': 6\n",
        "}\n",
        "for customer in customers:\n",
        "    print(\"{} has made {} purchases\".format(customer, customers[customer]))"
      ],
      "metadata": {
        "id": "5v0GwSs8n_Xj",
        "colab": {
          "base_uri": "https://localhost:8080/"
        },
        "outputId": "c83d6f19-9d7c-418d-f3f8-1a01f7485657"
      },
      "execution_count": 11,
      "outputs": [
        {
          "output_type": "stream",
          "name": "stdout",
          "text": [
            "Alice has made 4 purchases\n",
            "Judy has made 8 purchases\n",
            "Anna has made 6 purchases\n"
          ]
        }
      ]
    },
    {
      "cell_type": "markdown",
      "source": [
        "#### Using `else` with `for` Loops"
      ],
      "metadata": {
        "id": "7PpP5I0c3rpS"
      }
    },
    {
      "cell_type": "code",
      "source": [
        "numbers1 = [1, 5, 9, 5, 7, 3]\n",
        "numbers2 = [2, 8, 6, 2, 4, 10]\n",
        "\n",
        "for number in numbers2:\n",
        "    if number % 2 == 0:\n",
        "        print(\"List contains at least 1 even number\")\n",
        "        break\n",
        "else:\n",
        "    print(\"The list does not contain any even numbers\")"
      ],
      "metadata": {
        "id": "I6Qepx-tn_VE",
        "colab": {
          "base_uri": "https://localhost:8080/"
        },
        "outputId": "bf544456-4769-4d4b-b4ce-33bf8dfc7f33"
      },
      "execution_count": 13,
      "outputs": [
        {
          "output_type": "stream",
          "name": "stdout",
          "text": [
            "List contains at least 1 even number\n"
          ]
        }
      ]
    },
    {
      "cell_type": "code",
      "source": [
        "# nested for loops\n",
        "# inner loop finished before outer loop continues\n",
        "# every loop\n",
        "for x in range(6):\n",
        "    for y in range(6):\n",
        "        print(f\"{x} * {y} = {x * y}\")\n"
      ],
      "metadata": {
        "id": "uZYGbOoOn_QX",
        "colab": {
          "base_uri": "https://localhost:8080/"
        },
        "outputId": "049f9ed7-7100-4972-c18e-1ee1d225bb51"
      },
      "execution_count": 14,
      "outputs": [
        {
          "output_type": "stream",
          "name": "stdout",
          "text": [
            "0 * 0 = 0\n",
            "0 * 1 = 0\n",
            "0 * 2 = 0\n",
            "0 * 3 = 0\n",
            "0 * 4 = 0\n",
            "0 * 5 = 0\n",
            "1 * 0 = 0\n",
            "1 * 1 = 1\n",
            "1 * 2 = 2\n",
            "1 * 3 = 3\n",
            "1 * 4 = 4\n",
            "1 * 5 = 5\n",
            "2 * 0 = 0\n",
            "2 * 1 = 2\n",
            "2 * 2 = 4\n",
            "2 * 3 = 6\n",
            "2 * 4 = 8\n",
            "2 * 5 = 10\n",
            "3 * 0 = 0\n",
            "3 * 1 = 3\n",
            "3 * 2 = 6\n",
            "3 * 3 = 9\n",
            "3 * 4 = 12\n",
            "3 * 5 = 15\n",
            "4 * 0 = 0\n",
            "4 * 1 = 4\n",
            "4 * 2 = 8\n",
            "4 * 3 = 12\n",
            "4 * 4 = 16\n",
            "4 * 5 = 20\n",
            "5 * 0 = 0\n",
            "5 * 1 = 5\n",
            "5 * 2 = 10\n",
            "5 * 3 = 15\n",
            "5 * 4 = 20\n",
            "5 * 5 = 25\n"
          ]
        }
      ]
    },
    {
      "cell_type": "code",
      "source": [
        "size = 5\n",
        "for x in range(size):\n",
        "    for y in range(size):\n",
        "        print(f\"{x},{y}\\t\\t\", end='')\n",
        "    print()"
      ],
      "metadata": {
        "id": "EaL11Cz5n_N6",
        "colab": {
          "base_uri": "https://localhost:8080/"
        },
        "outputId": "f1d724f2-1377-4bb6-919d-bb712f751113"
      },
      "execution_count": 15,
      "outputs": [
        {
          "output_type": "stream",
          "name": "stdout",
          "text": [
            "0,0\t\t0,1\t\t0,2\t\t0,3\t\t0,4\t\t\n",
            "1,0\t\t1,1\t\t1,2\t\t1,3\t\t1,4\t\t\n",
            "2,0\t\t2,1\t\t2,2\t\t2,3\t\t2,4\t\t\n",
            "3,0\t\t3,1\t\t3,2\t\t3,3\t\t3,4\t\t\n",
            "4,0\t\t4,1\t\t4,2\t\t4,3\t\t4,4\t\t\n"
          ]
        }
      ]
    },
    {
      "cell_type": "code",
      "source": [
        "for x in range(size):\n",
        "    for y in range(size):\n",
        "        if (x + y) % 2:\n",
        "            print(\"\\U0001F600\\t\", end='')\n",
        "        else:\n",
        "            print(\"\\U0001F60D\\t\", end='')\n",
        "    print()"
      ],
      "metadata": {
        "id": "0N_HyWT-n_GC",
        "colab": {
          "base_uri": "https://localhost:8080/"
        },
        "outputId": "c2df0261-896c-4c36-8bc9-17a517c94056"
      },
      "execution_count": 16,
      "outputs": [
        {
          "output_type": "stream",
          "name": "stdout",
          "text": [
            "😍\t😀\t😍\t😀\t😍\t\n",
            "😀\t😍\t😀\t😍\t😀\t\n",
            "😍\t😀\t😍\t😀\t😍\t\n",
            "😀\t😍\t😀\t😍\t😀\t\n",
            "😍\t😀\t😍\t😀\t😍\t\n"
          ]
        }
      ]
    },
    {
      "cell_type": "markdown",
      "source": [
        "## The `while` Loop"
      ],
      "metadata": {
        "id": "vi892VNbn-um"
      }
    },
    {
      "cell_type": "code",
      "source": [
        "i = 0\n",
        "while i < 6:\n",
        "    print(i)\n",
        "    i += 1\n",
        "\n",
        "# requires declared variable as iterator\n",
        "# while iterator condition:\n",
        "#           do\n",
        "# MUST update iterator within loop\n",
        "# MUST eventually null condition to continue loop"
      ],
      "metadata": {
        "colab": {
          "base_uri": "https://localhost:8080/"
        },
        "id": "Z8Ko0ZEw4r_4",
        "outputId": "feb64622-fbae-41cb-ff40-ca46dd9e891f"
      },
      "execution_count": 17,
      "outputs": [
        {
          "output_type": "stream",
          "name": "stdout",
          "text": [
            "0\n",
            "1\n",
            "2\n",
            "3\n",
            "4\n",
            "5\n"
          ]
        }
      ]
    },
    {
      "cell_type": "code",
      "source": [
        "puzzle_pieces = 20\n",
        "pieces_placed = 0\n",
        "\n",
        "while pieces_placed < puzzle_pieces:\n",
        "    pieces_placed += 1\n",
        "    print(f\"Piece {pieces_placed} placed\")"
      ],
      "metadata": {
        "colab": {
          "base_uri": "https://localhost:8080/"
        },
        "id": "lZ65o25g4r8I",
        "outputId": "bfa0cd1a-3dc3-43f4-e782-f0f5b7680312"
      },
      "execution_count": 18,
      "outputs": [
        {
          "output_type": "stream",
          "name": "stdout",
          "text": [
            "Piece 1 placed\n",
            "Piece 2 placed\n",
            "Piece 3 placed\n",
            "Piece 4 placed\n",
            "Piece 5 placed\n",
            "Piece 6 placed\n",
            "Piece 7 placed\n",
            "Piece 8 placed\n",
            "Piece 9 placed\n",
            "Piece 10 placed\n",
            "Piece 11 placed\n",
            "Piece 12 placed\n",
            "Piece 13 placed\n",
            "Piece 14 placed\n",
            "Piece 15 placed\n",
            "Piece 16 placed\n",
            "Piece 17 placed\n",
            "Piece 18 placed\n",
            "Piece 19 placed\n",
            "Piece 20 placed\n"
          ]
        }
      ]
    },
    {
      "cell_type": "markdown",
      "source": [
        "#### Using `else` with `while` Loops"
      ],
      "metadata": {
        "id": "QyY59NkV4r5B"
      }
    },
    {
      "cell_type": "code",
      "source": [
        "i = 1\n",
        "while i < 10:\n",
        "    i += 3\n",
        "    if i % 2 == 0:\n",
        "        print(\"Sequence contains an even number\")\n",
        "        break\n",
        "else:\n",
        "    print(\"Sequence does not contain an even number\")\n",
        "\n",
        "# as is this seems faulty\n",
        "\n",
        "# else probaly goes with if inside"
      ],
      "metadata": {
        "colab": {
          "base_uri": "https://localhost:8080/"
        },
        "id": "qDV2aTBY5HPX",
        "outputId": "1b44f1ea-0c0a-4273-bfa7-e460db2e05c0"
      },
      "execution_count": 19,
      "outputs": [
        {
          "output_type": "stream",
          "name": "stdout",
          "text": [
            "Sequence contains an even number\n"
          ]
        }
      ]
    },
    {
      "cell_type": "markdown",
      "source": [
        "#### A bit of Practice"
      ],
      "metadata": {
        "id": "Z87QEtp24rxz"
      }
    },
    {
      "cell_type": "code",
      "source": [
        "i = 0\n",
        "while i < 10:\n",
        "    i += 1\n",
        "    print(f\"{i}. Hello while loop\")"
      ],
      "metadata": {
        "colab": {
          "base_uri": "https://localhost:8080/"
        },
        "id": "vmXCF5wp4rvC",
        "outputId": "97014973-fd85-4eaa-ec40-30fe60b40846"
      },
      "execution_count": 22,
      "outputs": [
        {
          "output_type": "stream",
          "name": "stdout",
          "text": [
            "1. Hello while loop\n",
            "2. Hello while loop\n",
            "3. Hello while loop\n",
            "4. Hello while loop\n",
            "5. Hello while loop\n",
            "6. Hello while loop\n",
            "7. Hello while loop\n",
            "8. Hello while loop\n",
            "9. Hello while loop\n",
            "10. Hello while loop\n"
          ]
        }
      ]
    },
    {
      "cell_type": "code",
      "source": [
        "cats = ['Tigger', 'Smokey', 'Sassy', 'Patch', 'Sammy']\n",
        "i = 0\n",
        "while i < len(cats):\n",
        "    print(f\"Hello {cats[i]}\")\n",
        "    i += 1"
      ],
      "metadata": {
        "colab": {
          "base_uri": "https://localhost:8080/"
        },
        "id": "gdIEfmFU51zT",
        "outputId": "caba11f8-0bae-443b-bf06-28b5f193aaef"
      },
      "execution_count": 23,
      "outputs": [
        {
          "output_type": "stream",
          "name": "stdout",
          "text": [
            "Hello Tigger\n",
            "Hello Smokey\n",
            "Hello Sassy\n",
            "Hello Patch\n",
            "Hello Sammy\n"
          ]
        }
      ]
    },
    {
      "cell_type": "code",
      "source": [
        "number = int(input(\"Please enter a number:\\n\"))\n",
        "factorial = 1\n",
        "i = 1\n",
        "while i <= number:\n",
        "    factorial *= i\n",
        "    i += 1\n",
        "print(f\"{number}! = {factorial}\")"
      ],
      "metadata": {
        "id": "rXVetb3c5--u"
      },
      "execution_count": null,
      "outputs": []
    },
    {
      "cell_type": "code",
      "source": [
        "i = 0\n",
        "while True:\n",
        "    print(i)\n",
        "    i += 1\n",
        "    if i >= 10:\n",
        "        break\n",
        "\n",
        "# while loop used sans iterator\n",
        "# while condition:\n",
        "#       do\n",
        "# need to null condition somehow..."
      ],
      "metadata": {
        "id": "yAkivz2l56aw"
      },
      "execution_count": null,
      "outputs": []
    }
  ]
}